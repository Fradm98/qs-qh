{
 "cells": [
  {
   "cell_type": "code",
   "execution_count": 4,
   "metadata": {},
   "outputs": [
    {
     "name": "stderr",
     "output_type": "stream",
     "text": [
      "<>:5: SyntaxWarning: invalid escape sequence '\\s'\n",
      "<>:5: SyntaxWarning: invalid escape sequence '\\s'\n",
      "/var/folders/d1/c6hqhfn161x458f4d0m3_rm80000gp/T/ipykernel_97990/2150777986.py:5: SyntaxWarning: invalid escape sequence '\\s'\n",
      "  I, a, b = symbols('I \\sigma \\\\tau', commutative=False)\n"
     ]
    },
    {
     "data": {
      "text/latex": [
       "$\\displaystyle Matrix\\ 1 = \\left[\\begin{matrix}I & \\tau & 0 & - \\sigma - \\tau\\\\0 & 0 & \\sigma & 0\\\\0 & 0 & 0 & - \\tau\\\\0 & 0 & 0 & I\\end{matrix}\\right]$"
      ],
      "text/plain": [
       "<IPython.core.display.Math object>"
      ]
     },
     "metadata": {},
     "output_type": "display_data"
    },
    {
     "data": {
      "text/latex": [
       "$\\displaystyle Matrix\\ 2 = \\left[\\begin{matrix}I & \\tau & 0 & - \\sigma - \\tau\\\\0 & 0 & \\sigma & 0\\\\0 & 0 & 0 & - \\tau\\\\0 & 0 & 0 & I\\end{matrix}\\right]$"
      ],
      "text/plain": [
       "<IPython.core.display.Math object>"
      ]
     },
     "metadata": {},
     "output_type": "display_data"
    },
    {
     "data": {
      "text/latex": [
       "$\\displaystyle Product = \\left[\\begin{matrix}I^{2} & I \\tau & \\tau \\sigma & I \\left(- \\sigma - \\tau\\right) + \\left(- \\sigma - \\tau\\right) I\\\\0 & 0 & 0 & - \\sigma \\tau\\\\0 & 0 & 0 & - \\tau I\\\\0 & 0 & 0 & I^{2}\\end{matrix}\\right]$"
      ],
      "text/plain": [
       "<IPython.core.display.Math object>"
      ]
     },
     "metadata": {},
     "output_type": "display_data"
    }
   ],
   "source": [
    "from sympy import symbols, Matrix, latex\n",
    "from IPython.display import display, Math\n",
    "\n",
    "# Define non-commutative symbols\n",
    "I, a, b = symbols('I \\sigma \\\\tau', commutative=False)\n",
    "\n",
    "# Define matrices with symbolic entries\n",
    "matrix = Matrix([\n",
    "    [I, b, 0, -a-b],\n",
    "    [0, 0, a, 0],\n",
    "    [0, 0, 0, -b],\n",
    "    [0, 0, 0, I]\n",
    "])\n",
    "\n",
    "product = Matrix([\n",
    "    [I, 0, 0, 0],\n",
    "    [0, 0, 0, 0],\n",
    "    [0, 0, 0, 0],\n",
    "    [0, 0, 0, I]\n",
    "])\n",
    "\n",
    "# Display matrices in LaTeX style\n",
    "display(Math(r\"Matrix\\ 1 = \" + latex(matrix)))\n",
    "display(Math(r\"Product = \" + latex(product)))\n",
    "\n",
    "sites = 3\n",
    "reps = sites - 1\n",
    "# Multiply the matrices\n",
    "for _ in reps:\n",
    "    product = product * matrix\n",
    "\n",
    "# Display matrices in LaTeX style\n",
    "display(Math(r\"Matrix\\ 1 = \" + latex(matrix1)))\n",
    "display(Math(r\"Product = \" + latex(product)))\n"
   ]
  },
  {
   "cell_type": "code",
   "execution_count": null,
   "metadata": {},
   "outputs": [],
   "source": []
  }
 ],
 "metadata": {
  "kernelspec": {
   "display_name": "qsqh",
   "language": "python",
   "name": "python3"
  },
  "language_info": {
   "codemirror_mode": {
    "name": "ipython",
    "version": 3
   },
   "file_extension": ".py",
   "mimetype": "text/x-python",
   "name": "python",
   "nbconvert_exporter": "python",
   "pygments_lexer": "ipython3",
   "version": "3.13.0"
  }
 },
 "nbformat": 4,
 "nbformat_minor": 2
}
