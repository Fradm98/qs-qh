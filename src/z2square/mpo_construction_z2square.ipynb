{
 "cells": [
  {
   "cell_type": "code",
   "execution_count": 4,
   "metadata": {},
   "outputs": [
    {
     "name": "stderr",
     "output_type": "stream",
     "text": [
      "<>:5: SyntaxWarning: invalid escape sequence '\\s'\n",
      "<>:5: SyntaxWarning: invalid escape sequence '\\s'\n",
      "/var/folders/32/fk_0xqj113d4fp2cxfpqtfd40000gr/T/ipykernel_16623/854274392.py:5: SyntaxWarning: invalid escape sequence '\\s'\n",
      "  I, a, b = symbols('I \\sigma \\\\tau', commutative=False)\n"
     ]
    },
    {
     "data": {
      "text/latex": [
       "$\\displaystyle Matrix\\ 1 = \\left[\\begin{matrix}I & \\tau & 0 & - \\sigma - \\tau\\\\0 & 0 & \\sigma & 0\\\\0 & 0 & 0 & - \\tau\\\\0 & 0 & 0 & I\\end{matrix}\\right]$"
      ],
      "text/plain": [
       "<IPython.core.display.Math object>"
      ]
     },
     "metadata": {},
     "output_type": "display_data"
    },
    {
     "data": {
      "text/latex": [
       "$\\displaystyle Product = \\left[\\begin{matrix}I & 0 & 0 & 0\\\\0 & 0 & 0 & 0\\\\0 & 0 & 0 & 0\\\\0 & 0 & 0 & I\\end{matrix}\\right]$"
      ],
      "text/plain": [
       "<IPython.core.display.Math object>"
      ]
     },
     "metadata": {},
     "output_type": "display_data"
    },
    {
     "data": {
      "text/latex": [
       "$\\displaystyle Matrix\\ 1 = \\left[\\begin{matrix}I & \\tau & 0 & - \\sigma - \\tau\\\\0 & 0 & \\sigma & 0\\\\0 & 0 & 0 & - \\tau\\\\0 & 0 & 0 & I\\end{matrix}\\right]$"
      ],
      "text/plain": [
       "<IPython.core.display.Math object>"
      ]
     },
     "metadata": {},
     "output_type": "display_data"
    },
    {
     "data": {
      "text/latex": [
       "$\\displaystyle Product = \\left[\\begin{matrix}I^{3} & I^{2} \\tau & I \\tau \\sigma & I \\left(- \\sigma - \\tau\\right) I + I^{2} \\left(- \\sigma - \\tau\\right)\\\\0 & 0 & 0 & 0\\\\0 & 0 & 0 & 0\\\\0 & 0 & 0 & I^{3}\\end{matrix}\\right]$"
      ],
      "text/plain": [
       "<IPython.core.display.Math object>"
      ]
     },
     "metadata": {},
     "output_type": "display_data"
    }
   ],
   "source": [
    "from sympy import symbols, Matrix, latex\n",
    "from IPython.display import display, Math\n",
    "\n",
    "# Define non-commutative symbols\n",
    "I, a, b = symbols('I \\sigma \\\\tau', commutative=False)\n",
    "\n",
    "# Define matrices with symbolic entries\n",
    "matrix = Matrix([\n",
    "    [I, b, 0, -a-b],\n",
    "    [0, 0, a, 0],\n",
    "    [0, 0, 0, -b],\n",
    "    [0, 0, 0, I]\n",
    "])\n",
    "\n",
    "product = Matrix([\n",
    "    [I, 0, 0, 0],\n",
    "    [0, 0, 0, 0],\n",
    "    [0, 0, 0, 0],\n",
    "    [0, 0, 0, I]\n",
    "])\n",
    "\n",
    "# Display matrices in LaTeX style\n",
    "display(Math(r\"Matrix\\ 1 = \" + latex(matrix)))\n",
    "display(Math(r\"Product = \" + latex(product)))\n",
    "\n",
    "sites = 3\n",
    "reps = sites - 1\n",
    "# Multiply the matrices\n",
    "for _ in range(reps):\n",
    "    product = product * matrix\n",
    "\n",
    "# Display matrices in LaTeX style\n",
    "display(Math(r\"Matrix\\ 1 = \" + latex(matrix)))\n",
    "display(Math(r\"Product = \" + latex(product)))\n"
   ]
  },
  {
   "cell_type": "markdown",
   "metadata": {},
   "source": [
    "## MPO for $Z_2$ square lattice (direct)"
   ]
  },
  {
   "cell_type": "markdown",
   "metadata": {},
   "source": [
    "we have two type of MPOs because:\n",
    "- we encode the vertical rungs in a MPS mixing matter and gauge degrees of freedom $\\rightarrow (m+g)MPO $  \n",
    "- we encode the horizontal gauge fields in a different MPS in between the matter-gauge ones $\\rightarrow (g)MPO $"
   ]
  },
  {
   "cell_type": "code",
   "execution_count": 7,
   "metadata": {},
   "outputs": [
    {
     "data": {
      "text/latex": [
       "$\\displaystyle (m+g)MPO = \\left[\\begin{matrix}I & \\tau_{1} & \\tau_{2} & - J \\left(\\tau_{1} + \\tau_{2}\\right) - \\lambda \\tau_{1} \\sigma_{2} \\tau_{2} - h \\sigma_{2}\\\\0 & 0 & 0 & \\tau_{1}\\\\0 & 0 & 0 & \\tau_{2}\\\\0 & 0 & 0 & I\\end{matrix}\\right]$"
      ],
      "text/plain": [
       "<IPython.core.display.Math object>"
      ]
     },
     "metadata": {},
     "output_type": "display_data"
    },
    {
     "data": {
      "text/latex": [
       "$\\displaystyle (g)MPO = \\left[\\begin{matrix}I & 0 & 0 & - h \\left(\\sigma_{1} + \\sigma_{3}\\right)\\\\0 & \\sigma_{1} & 0 & 0\\\\0 & 0 & \\sigma_{3} & 0\\\\0 & 0 & 0 & I\\end{matrix}\\right]$"
      ],
      "text/plain": [
       "<IPython.core.display.Math object>"
      ]
     },
     "metadata": {},
     "output_type": "display_data"
    }
   ],
   "source": [
    "# symbolic computation with sympy\n",
    "\n",
    "l = 1\n",
    "# Define non-commutative symbols\n",
    "I, J, h, lamb = symbols('I J h \\\\lambda', commutative=False)\n",
    "\n",
    "a, b, c, d, e = symbols('\\\\tau_1 \\\\tau_2 \\\\sigma_1 \\\\sigma_2 \\\\sigma_3', commutative=False)\n",
    "# Define m+g and g MPOs\n",
    "\n",
    "mg = Matrix([\n",
    "    [I, a, b, -J*(a+b) -h*(d) -lamb*(a*d*b)],\n",
    "    [0, 0, 0, a],\n",
    "    [0, 0, 0, b],\n",
    "    [0, 0, 0, I]\n",
    "])\n",
    "\n",
    "g = Matrix([\n",
    "    [I, 0, 0, -h*(c+e)],\n",
    "    [0, c, 0, 0],\n",
    "    [0, 0, e, 0],\n",
    "    [0, 0, 0, I]\n",
    "])\n",
    "\n",
    "# Display matrices in LaTeX style\n",
    "display(Math(r\"(m+g)MPO = \" + latex(mg)))\n",
    "display(Math(r\"(g)MPO = \" + latex(g)))"
   ]
  },
  {
   "cell_type": "code",
   "execution_count": 10,
   "metadata": {},
   "outputs": [
    {
     "data": {
      "text/latex": [
       "$\\displaystyle MPO\\ 3-sites = \\left[\\begin{matrix}I^{3} & I^{2} \\tau_{1} & I^{2} \\tau_{2} & I^{2} \\left(- J \\left(\\tau_{1} + \\tau_{2}\\right) - \\lambda \\tau_{1} \\sigma_{2} \\tau_{2} - h \\sigma_{2}\\right) + \\tau_{1} \\sigma_{1} \\tau_{1} + \\tau_{2} \\sigma_{3} \\tau_{2} + \\left(- I h \\left(\\sigma_{1} + \\sigma_{3}\\right) + \\left(- J \\left(\\tau_{1} + \\tau_{2}\\right) - \\lambda \\tau_{1} \\sigma_{2} \\tau_{2} - h \\sigma_{2}\\right) I\\right) I\\\\0 & 0 & 0 & \\tau_{1} I^{2}\\\\0 & 0 & 0 & \\tau_{2} I^{2}\\\\0 & 0 & 0 & I^{3}\\end{matrix}\\right]$"
      ],
      "text/plain": [
       "<IPython.core.display.Math object>"
      ]
     },
     "metadata": {},
     "output_type": "display_data"
    },
    {
     "data": {
      "text/latex": [
       "$\\displaystyle Hamiltonian = I^{2} \\left(- J \\left(\\tau_{1} + \\tau_{2}\\right) - \\lambda \\tau_{1} \\sigma_{2} \\tau_{2} - h \\sigma_{2}\\right) + \\tau_{1} \\sigma_{1} \\tau_{1} + \\tau_{2} \\sigma_{3} \\tau_{2} + \\left(- I h \\left(\\sigma_{1} + \\sigma_{3}\\right) + \\left(- J \\left(\\tau_{1} + \\tau_{2}\\right) - \\lambda \\tau_{1} \\sigma_{2} \\tau_{2} - h \\sigma_{2}\\right) I\\right) I$"
      ],
      "text/plain": [
       "<IPython.core.display.Math object>"
      ]
     },
     "metadata": {},
     "output_type": "display_data"
    }
   ],
   "source": [
    "product = mg * g * mg\n",
    "display(Math(r\"MPO\\ 3-sites = \" + latex(product)))\n",
    "display(Math(r\"Hamiltonian = \" + latex(product[3])))"
   ]
  },
  {
   "cell_type": "code",
   "execution_count": null,
   "metadata": {},
   "outputs": [],
   "source": [
    "# local dimesion of the m+g MPO\n",
    "l = 1\n",
    "d = 2**(2*l+1)\n",
    "\n"
   ]
  }
 ],
 "metadata": {
  "kernelspec": {
   "display_name": "qsqh",
   "language": "python",
   "name": "python3"
  },
  "language_info": {
   "codemirror_mode": {
    "name": "ipython",
    "version": 3
   },
   "file_extension": ".py",
   "mimetype": "text/x-python",
   "name": "python",
   "nbconvert_exporter": "python",
   "pygments_lexer": "ipython3",
   "version": "3.12.3"
  }
 },
 "nbformat": 4,
 "nbformat_minor": 2
}
