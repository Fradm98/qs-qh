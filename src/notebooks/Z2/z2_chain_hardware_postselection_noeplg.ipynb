{
 "cells": [
  {
   "cell_type": "code",
   "execution_count": 22,
   "metadata": {},
   "outputs": [
    {
     "name": "stdout",
     "output_type": "stream",
     "text": [
      "The autoreload extension is already loaded. To reload it, use:\n",
      "  %reload_ext autoreload\n"
     ]
    }
   ],
   "source": [
    "%load_ext autoreload\n",
    "%autoreload 2"
   ]
  },
  {
   "cell_type": "markdown",
   "metadata": {},
   "source": [
    "# Load function into library"
   ]
  },
  {
   "cell_type": "code",
   "execution_count": 23,
   "metadata": {},
   "outputs": [],
   "source": [
    "from cobos.tokens import ibm_token, group_instance, group_instance2\n",
    "from qiskit_ibm_runtime import QiskitRuntimeService\n",
    "\n",
    "QiskitRuntimeService.save_account(token=ibm_token, channel=\"ibm_quantum\", instance=group_instance2, overwrite=True)"
   ]
  },
  {
   "cell_type": "code",
   "execution_count": 24,
   "metadata": {},
   "outputs": [
    {
     "name": "stdout",
     "output_type": "stream",
     "text": [
      "[QiskitFunction(Z2chain postselection calibration and run), QiskitFunction(Z2chain_postselection_calibration_and_run)]\n"
     ]
    }
   ],
   "source": [
    "from qiskit_ibm_catalog import QiskitServerless, QiskitFunction\n",
    "\n",
    "function_name = \"Z2chain_postselection_calibration_and_run\"\n",
    "entry_point = \"serverless_submit.py\"\n",
    "working_dir = \"../../z2chain/serverless/\"\n",
    "\n",
    "overwrite = True\n",
    "\n",
    "serverless = QiskitServerless(token=ibm_token)\n",
    "functions = serverless.list()\n",
    "found_funcs = [func for func in functions if func.title == function_name]\n",
    "if found_funcs and not overwrite:\n",
    "    qiskit_function = found_funcs[-1]\n",
    "else:\n",
    "    qiskit_function = QiskitFunction(title=function_name, entrypoint=entry_point, working_dir=working_dir, dependencies=[\"pymatching\"])\n",
    "    serverless.upload(qiskit_function)\n",
    "    functions = serverless.list()\n",
    "    qiskit_function = [func for func in functions if func.title == function_name][-1]\n",
    "\n",
    "print(serverless.list())"
   ]
  },
  {
   "cell_type": "markdown",
   "metadata": {},
   "source": [
    "# Simulation settings"
   ]
  },
  {
   "cell_type": "code",
   "execution_count": 25,
   "metadata": {},
   "outputs": [],
   "source": [
    "from utils.serverless import FunctionDB\n",
    "from utils.hexec import ExecDB\n",
    "\n",
    "debug = True\n",
    "\n",
    "L_arr = [16]\n",
    "J_arr = [1]\n",
    "h_arr = [0.05]\n",
    "lamb_arr = [0.7]\n",
    "g_arr = [8]\n",
    "\n",
    "# device = \"ibm_kyiv\"\n",
    "# device = \"ibm_brisbane\"\n",
    "device = \"ibm_fez\"\n",
    "# device = \"ibm_sherbrooke\"\n",
    "# device = \"ibm_torino\"\n",
    "# device = \"ibm_marrakesh\"\n",
    "\n",
    "x_basis = False\n",
    "\n",
    "fractional_gates = False\n",
    "\n",
    "particle_pair_left_positions = [L//2 - 1 for L in L_arr]\n",
    "particle_pair_length = 1\n",
    "\n",
    "final_time = 8\n",
    "steps = 35\n",
    "max_layers = 50\n",
    "\n",
    "shots = 75000\n",
    "\n",
    "odr = True\n",
    "flip_threshold = 2\n",
    "\n",
    "optimization_level = 3\n",
    "\n",
    "sampler_options = {\n",
    "    \"default_shots\": shots,\n",
    "    \"execution\": {\n",
    "        \"init_qubits\": True,\n",
    "        \"meas_type\": \"classified\"\n",
    "    },\n",
    "    \"dynamical_decoupling\": {\n",
    "        \"enable\": True,\n",
    "        \"sequence_type\": \"XY4\"\n",
    "    },\n",
    "    \"twirling\": {\n",
    "        \"enable_gates\": True,\n",
    "        \"enable_measure\": True,\n",
    "        \"num_randomizations\": shots//100,\n",
    "        \"shots_per_randomization\": 100\n",
    "    }\n",
    "}\n",
    "\n",
    "execution_database = \"z2_chain_jobs_postselection_no_eplg.json\"\n",
    "function_database = \"z2_chain_functions_postselection_no_eplg.json\"\n",
    "jobs_result_folder = execution_database.split(\".\")[0] + \"/\"\n",
    "job_db = ExecDB(execution_database)\n",
    "func_db = FunctionDB(function_database)\n",
    "\n",
    "circ_folder_path = \"Circuits/\""
   ]
  },
  {
   "cell_type": "markdown",
   "metadata": {},
   "source": [
    "# Circuit execution"
   ]
  },
  {
   "cell_type": "markdown",
   "metadata": {},
   "source": [
    "## Send jobs to hardware"
   ]
  },
  {
   "cell_type": "code",
   "execution_count": 26,
   "metadata": {},
   "outputs": [],
   "source": [
    "from itertools import product\n",
    "\n",
    "func_jobs = []\n",
    "\n",
    "for i, (L, J, h, lamb, g) in enumerate(product(L_arr, J_arr, h_arr, lamb_arr, g_arr)):\n",
    "    func_kwargs = {\n",
    "        \"chain_length\": L,\n",
    "        \"J\": J,\n",
    "        \"lamb\": lamb,\n",
    "        \"particle_pair_left_position\": particle_pair_left_positions[i],\n",
    "        \"particle_pair_length\": particle_pair_length,\n",
    "        \"final_time\": final_time,\n",
    "        \"steps\": steps,\n",
    "        \"max_layers\": max_layers,\n",
    "        \"backend\": device,\n",
    "        \"optimization_level\": optimization_level,\n",
    "        \"sampler_options\": sampler_options,\n",
    "        \"g\": g,\n",
    "        \"layout\": None,\n",
    "        \"odr\": odr,\n",
    "        \"x_basis\": x_basis,\n",
    "        \"flip_threshold\": flip_threshold,\n",
    "        \"debug\": debug\n",
    "    }\n",
    "    this_job = qiskit_function.run(**func_kwargs)\n",
    "    # func_db.add(func_kwargs, this_job.job_id)\n",
    "    func_jobs.append(this_job)"
   ]
  },
  {
   "cell_type": "code",
   "execution_count": 27,
   "metadata": {},
   "outputs": [
    {
     "data": {
      "text/plain": [
       "[<Job | deb26f31-f6fc-455a-a24b-bf648359a45c>,\n",
       " <Job | b637e243-f9d5-4777-aabc-5d01ce69d870>,\n",
       " <Job | b6bb0277-93f6-4cd1-97a0-90c0887e8918>,\n",
       " <Job | affb0668-881d-41c2-8733-594e84eba744>,\n",
       " <Job | d2fde3c3-1000-45eb-a10a-d0ab0255ae98>,\n",
       " <Job | af1ecb90-a29f-4bf3-8bea-477ffd86a992>,\n",
       " <Job | c5047e6d-fc44-49cc-86d3-22c6d1599cbe>,\n",
       " <Job | 8147e356-ed4b-460a-b0ff-b692bd006a8d>]"
      ]
     },
     "execution_count": 27,
     "metadata": {},
     "output_type": "execute_result"
    }
   ],
   "source": [
    "serverless.jobs()"
   ]
  },
  {
   "cell_type": "code",
   "execution_count": 33,
   "metadata": {},
   "outputs": [
    {
     "name": "stdout",
     "output_type": "stream",
     "text": [
      "ERROR\n",
      "Job deb26f31-f6fc-455a-a24b-bf648359a45c failed due to an internal error.\n"
     ]
    }
   ],
   "source": [
    "print(serverless.jobs()[0].status())\n",
    "print(serverless.jobs()[0].logs())"
   ]
  },
  {
   "cell_type": "markdown",
   "metadata": {},
   "source": [
    "## Load last functions jobs & update"
   ]
  },
  {
   "cell_type": "code",
   "execution_count": null,
   "metadata": {},
   "outputs": [],
   "source": [
    "update_all = True\n",
    "\n",
    "this_job.update_jobdb(job_db, serverless,)\n",
    "\n",
    "for i, (L, J, h, lamb, g) in enumerate(product(L_arr, J_arr, h_arr, lamb_arr, g_arr)):\n",
    "    func_kwargs = {\n",
    "        \"chain_length\": L,\n",
    "        \"J\": J,\n",
    "        \"lamb\": lamb,\n",
    "        \"particle_pair_left_position\": particle_pair_left_positions[i],\n",
    "        \"particle_pair_length\": particle_pair_length,\n",
    "        \"final_time\": final_time,\n",
    "        \"steps\": steps,\n",
    "        \"max_layers\": max_layers,\n",
    "        \"backend\": device,\n",
    "        \"optimization_level\": optimization_level,\n",
    "        \"sampler_options\": sampler_options,\n",
    "        \"g\": g,\n",
    "        \"layout\": None,\n",
    "        \"odr\": odr,\n",
    "        \"x_basis\": x_basis,\n",
    "        \"flip_threshold\": flip_threshold,\n",
    "        \"debug\": debug\n",
    "    }\n",
    "    this_job = func_db.search_by_params(func_kwargs, serverless, limit=1)\n",
    "    print(f\"L = {L} / J = {J:.02f} / h = {lamb:.02f} / g = {g:.02f}\")\n",
    "    if len(this_job) > 0:\n",
    "        print(f\"\\tStatus: {this_job.status()}\")\n",
    "        print(f\"\\tLogs:\\n{this_job.logs()}\")\n",
    "    else:\n",
    "        print(\"Job not found\")"
   ]
  }
 ],
 "metadata": {
  "kernelspec": {
   "display_name": "qiskit",
   "language": "python",
   "name": "python3"
  },
  "language_info": {
   "codemirror_mode": {
    "name": "ipython",
    "version": 3
   },
   "file_extension": ".py",
   "mimetype": "text/x-python",
   "name": "python",
   "nbconvert_exporter": "python",
   "pygments_lexer": "ipython3",
   "version": "3.12.3"
  }
 },
 "nbformat": 4,
 "nbformat_minor": 2
}
