{
 "cells": [
  {
   "cell_type": "markdown",
   "metadata": {},
   "source": [
    "# $\\mathbb{Z}_2$-Higgs ED results"
   ]
  },
  {
   "cell_type": "markdown",
   "metadata": {},
   "source": [
    "## Hamiltonian:\n",
    "\n",
    "$$H = - J \\sum_n \\tau_n^{z} - h \\sum_{n} \\sigma_{(n, n+1)}^{z} - \\lambda \\sum_n \\tau^{x}_{n+1} \\sigma_{(n, n+1)}^{x} \\tau^{x}_n$$\n",
    "\n",
    "This basis is chosen to avoid unnecesary operations in order to create the vaccuum in hardware\n",
    "\n",
    "## Gauss-law:\n",
    "\n",
    "$$G_n = \\sigma_{(n-1, n)}^{z} \\tau_{n}^{z} \\sigma_{(n, n+1)}^{z}$$\n",
    "\n",
    "## Some references (2d and 1d actually and coupled to other forms of matter):\n",
    "\n",
    "- Digital quantum simulation and pseudoquantum simulation of the ℤ2 gauge–Higgs model: https://journals.aps.org/prd/abstract/10.1103/PhysRevD.105.054508\n",
    "- Entanglement of Gauge Theories: from the Toric Code to the ℤ2 Lattice Gauge Higgs Model: https://arxiv.org/pdf/2311.16235\n",
    "- Percolation as a confinement order parameter in ℤ2 lattice gauge theories: https://arxiv.org/abs/2401.08770\n",
    "- Phase diagrams of lattice gauge theories with Higgs fields: https://journals.aps.org/prd/abstract/10.1103/PhysRevD.19.3682\n",
    "- Confinement in 1+1D ℤ2 Lattice Gauge Theories at Finite Temperature: https://arxiv.org/abs/2308.08592\n",
    "- Confinement and Mott Transitions of Dynamical Charges in One-Dimensional Lattice Gauge Theories: https://journals.aps.org/prl/abstract/10.1103/PhysRevLett.127.167203\n",
    "- Probing confinement in a Z2 lattice gauge theory on a quantum computer: https://arxiv.org/pdf/2203.08905\n",
    "\n",
    "## Duality\n",
    "\n",
    "Integrating the Gauss' law and defining the following variables that maintain the commutation relations leads to the Hamiltonian of the Quantum Ising model with Transverse and longitudinal field in a $L - 1$ chain (Considering open boundary conditions)\n",
    "\n",
    "$$\\tilde{H} = -J (\\mu_1^z + \\mu_{L-1}^z - \\sum^{L-2}_{n = 1} \\mu_n^z \\mu_{n+1}^z) - h \\sum_{n=1}^{L-1} \\mu_n^{z} - \\lambda \\sum_{n = 1}^{L-1} \\mu_n^{x}$$\n",
    "\n",
    "With:\n",
    "\n",
    "$\\mu_n^z = \\sigma_{(n, n+1)}^z$\n",
    "\n",
    "$\\mu_n^x = \\tau_{n+1}^x \\sigma_{(n, n+1)}^{x} \\tau_{n}^x$\n",
    "\n",
    "## Some references\n",
    "\n",
    "- Antiferromagnetic Ising chain in a mixed transverse and longitudinal magnetic field: https://journals.aps.org/prb/pdf/10.1103/PhysRevB.68.214406\n",
    "- Ground-state properties of the one-dimensional transverse Ising model in a longitudinal magnetic field: https://journals.aps.org/pre/pdf/10.1103/PhysRevE.99.012122\n",
    "- One-dimensional transverse-field Ising model in a complex longitudinal field from a real-space renormalization-group method at T = 0: https://journals.aps.org/prb/pdf/10.1103/PhysRevB.22.436"
   ]
  },
  {
   "cell_type": "markdown",
   "metadata": {},
   "source": [
    "# Dynamics example"
   ]
  },
  {
   "cell_type": "markdown",
   "metadata": {},
   "source": [
    "Let's check whether a single-particle quench in a odd chain leads to something different than in the Hardcore boson or fermionic case. I will be working in the dual Hamiltonian so that I can do the simulations in larger systems."
   ]
  },
  {
   "cell_type": "markdown",
   "metadata": {},
   "source": []
  }
 ],
 "metadata": {
  "language_info": {
   "name": "python"
  }
 },
 "nbformat": 4,
 "nbformat_minor": 2
}
