{
 "cells": [
  {
   "cell_type": "markdown",
   "metadata": {},
   "source": [
    "# $\\mathbb{Z}_2$-Higgs chain time evolution"
   ]
  },
  {
   "cell_type": "markdown",
   "metadata": {},
   "source": [
    "## Hamiltonian:\n",
    "\n",
    "$$H = - \\sum_n \\tau_n^{z} - \\frac{h}{J} \\sum_{n} \\sigma_{(n, n+1)}^{z} - \\frac{\\lambda}{J}\\sum_n \\tau^{x}_{n+1} \\sigma_{(n, n+1)}^{x} \\tau^{x}_n$$\n",
    "\n",
    "This basis is chosen to avoid unnecesary operations in order to create the vaccuum in hardware\n",
    "\n",
    "## Gauss-law:\n",
    "\n",
    "$$G_n = \\sigma_{(n-1, n)}^{z} \\tau_{n}^{z} \\sigma_{(n, n+1)}^{z}$$\n",
    "\n",
    "## Some references (2D actually):\n",
    "\n",
    "- https://journals.aps.org/prd/abstract/10.1103/PhysRevD.105.054508\n",
    "- https://arxiv.org/pdf/2311.16235"
   ]
  },
  {
   "cell_type": "code",
   "execution_count": null,
   "metadata": {},
   "outputs": [],
   "source": []
  }
 ],
 "metadata": {
  "language_info": {
   "name": "python"
  }
 },
 "nbformat": 4,
 "nbformat_minor": 2
}
