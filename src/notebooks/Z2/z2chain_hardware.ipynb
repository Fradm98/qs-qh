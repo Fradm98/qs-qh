{
 "cells": [
  {
   "cell_type": "markdown",
   "metadata": {},
   "source": [
    "## Circuit creation"
   ]
  },
  {
   "cell_type": "code",
   "execution_count": 16,
   "metadata": {},
   "outputs": [],
   "source": [
    "L = 8\n",
    "J = 1\n",
    "h = 0.05\n",
    "lamb = 0.5\n",
    "\n",
    "particle_pair_left_position = 3\n",
    "particle_pair_length = 1\n",
    "\n",
    "final_time = 10\n",
    "layers = 100\n",
    "measure_every_layers = 1"
   ]
  },
  {
   "cell_type": "code",
   "execution_count": 17,
   "metadata": {},
   "outputs": [],
   "source": [
    "import z2chain.circs as circs\n",
    "\n",
    "logical_circs = circs.particle_pair_quench_simulation_circuits(L, J, h, lamb, particle_pair_left_position, particle_pair_length, final_time, layers, measure_every_layers)"
   ]
  },
  {
   "cell_type": "markdown",
   "metadata": {},
   "source": [
    "## Ideal statevector circuit simulation"
   ]
  },
  {
   "cell_type": "code",
   "execution_count": 18,
   "metadata": {},
   "outputs": [],
   "source": [
    "from qiskit.transpiler.preset_passmanagers import generate_preset_pass_manager\n",
    "from qiskit_aer import AerSimulator\n",
    "\n",
    "simulator_backend = AerSimulator(method=\"statevector\")\n",
    "pm = generate_preset_pass_manager(backend=simulator_backend, optimization_level=2)\n",
    "physical_circs = [pm.run(circ) for circ in logical_circs]"
   ]
  },
  {
   "cell_type": "code",
   "execution_count": 19,
   "metadata": {},
   "outputs": [
    {
     "name": "stderr",
     "output_type": "stream",
     "text": [
      "/opt/homebrew/Caskroom/miniconda/base/envs/qiskit/lib/python3.12/site-packages/qiskit_ibm_runtime/session.py:157: UserWarning: Session is not supported in local testing mode or when using a simulator.\n",
      "  warnings.warn(\n",
      "/opt/homebrew/Caskroom/miniconda/base/envs/qiskit/lib/python3.12/site-packages/qiskit_ibm_runtime/fake_provider/local_service.py:243: UserWarning: Options {'transpilation': {'optimization_level': 1}, 'default_shots': 4096} have no effect in local testing mode.\n",
      "  warnings.warn(f\"Options {options_copy} have no effect in local testing mode.\")\n"
     ]
    }
   ],
   "source": [
    "from utils.hexec import execute_estimator_batch\n",
    "from z2chain.qiskit_observables import local_pauli_z\n",
    "from functools import partial\n",
    "\n",
    "estimator_options = {\n",
    "    \"default_shots\": 4096,\n",
    "    \"optimization_level\": 1\n",
    "}\n",
    "\n",
    "observables_generating_funcs = [partial(local_pauli_z, qubit_ind=i) for i in range(2*L-1)]\n",
    "\n",
    "jobs = execute_estimator_batch(simulator_backend, estimator_options, physical_circs, observables_generating_funcs)"
   ]
  }
 ],
 "metadata": {
  "kernelspec": {
   "display_name": "qiskit",
   "language": "python",
   "name": "python3"
  },
  "language_info": {
   "codemirror_mode": {
    "name": "ipython",
    "version": 3
   },
   "file_extension": ".py",
   "mimetype": "text/x-python",
   "name": "python",
   "nbconvert_exporter": "python",
   "pygments_lexer": "ipython3",
   "version": "3.12.2"
  }
 },
 "nbformat": 4,
 "nbformat_minor": 2
}
