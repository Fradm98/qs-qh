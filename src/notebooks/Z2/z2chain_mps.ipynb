{
 "cells": [
  {
   "cell_type": "code",
   "execution_count": 1,
   "metadata": {},
   "outputs": [],
   "source": [
    "%load_ext autoreload\n",
    "%autoreload 2"
   ]
  },
  {
   "cell_type": "code",
   "execution_count": 1,
   "metadata": {},
   "outputs": [],
   "source": [
    "from fradm.tn_test import *\n",
    "import matplotlib.pyplot as plt\n",
    "from ncon import ncon"
   ]
  },
  {
   "cell_type": "code",
   "execution_count": 21,
   "metadata": {},
   "outputs": [
    {
     "name": "stdout",
     "output_type": "stream",
     "text": [
      "Sweep n: 0\n",
      "\n",
      "Sweep n: 1\n",
      "\n",
      "##############################\n",
      "The energy between the two last updated states converged\n",
      "to an order of 1e-10 after:\n",
      "1 sweeps at site 2\n",
      "total iterations 13\n",
      "total time: 0.1002027639769949\n",
      "##############################\n",
      "(1, 2, 2)\n",
      "(2, 2, 4)\n",
      "(4, 2, 8)\n",
      "(8, 2, 8)\n",
      "(8, 2, 4)\n",
      "(4, 2, 2)\n",
      "(2, 2, 1)\n"
     ]
    }
   ],
   "source": [
    "L = 7\n",
    "chi = 8\n",
    "chain = Z2_chain_massive_mps(L=L, d=2, chi=chi, h1=0.1, h2=0.1)\n",
    "chain._random_state(seed=3, chi=chi)\n",
    "chain.canonical_form()\n",
    "chain.DMRG(trunc_tol=False, trunc_chi=True)\n",
    "# chain.DMRG(trunc_tol=True, trunc_chi=False)\n",
    "tensor_shapes(chain.sites)\n",
    "Z = np.array([[1,0],[0,-1]])\n",
    "Z = np.array([[1,0],[0,-1]])\n",
    "exp_vals = []\n",
    "for i in range(L):\n",
    "    chain.local_order_param(site=i)\n",
    "    occup = chain.mpo_first_moment().real\n",
    "    exp_vals.append(occup)"
   ]
  },
  {
   "cell_type": "code",
   "execution_count": 26,
   "metadata": {},
   "outputs": [],
   "source": [
    "occup_state = np.array([0,1]).reshape((1,2,1))\n",
    "vacuum_state = np.array([1,0]).reshape((1,2,1))\n",
    "vacuum_tensor = [vacuum_state for _ in range(L)]\n",
    "vacuum_tensor[L//2] = occup_state\n",
    "vacuum_tensor[L//2-1] = occup_state\n",
    "vacuum_tensor[L//2+1] = occup_state\n",
    "perturbed_tensor = vacuum_tensor"
   ]
  },
  {
   "cell_type": "code",
   "execution_count": 28,
   "metadata": {},
   "outputs": [
    {
     "name": "stdout",
     "output_type": "stream",
     "text": [
      "(1, 2, 8)\n",
      "(8, 2, 8)\n",
      "(8, 2, 8)\n",
      "(8, 2, 8)\n",
      "(8, 2, 8)\n",
      "(8, 2, 8)\n",
      "(8, 2, 1)\n"
     ]
    },
    {
     "data": {
      "text/plain": [
       "[(1, 2, 8), (8, 2, 8), (8, 2, 8), (8, 2, 8), (8, 2, 8), (8, 2, 8), (8, 2, 1)]"
      ]
     },
     "execution_count": 28,
     "metadata": {},
     "output_type": "execute_result"
    }
   ],
   "source": [
    "chain = Z2_chain_massive_mps(L=L, d=2, chi=chi, h1=0.1, h2=0.1)\n",
    "chain.sites = perturbed_tensor\n",
    "# chain.enlarge_chi()\n",
    "# chain.TEBD_variational()"
   ]
  },
  {
   "cell_type": "markdown",
   "metadata": {},
   "source": [
    "## Construct MPO"
   ]
  },
  {
   "cell_type": "markdown",
   "metadata": {},
   "source": [
    "We define three mpos for the mass and gauge sites, we have to use them to find a single mpo for the bulk of the chain and the boundaries"
   ]
  },
  {
   "cell_type": "code",
   "execution_count": 27,
   "metadata": {},
   "outputs": [
    {
     "name": "stdout",
     "output_type": "stream",
     "text": [
      "0.7565428747114508 0.6299605249474367 0.9085602964160698\n"
     ]
    }
   ],
   "source": [
    "theta = np.pi/3\n",
    "I = identity(2).toarray()\n",
    "O = np.zeros((2,2))\n",
    "X = sparse_pauli_x(0,1).toarray()\n",
    "w_start = np.asarray([(np.cos(theta))**(1/3)*I, (np.sin(theta))**(1/3)*X]).reshape((1,2,2,2))\n",
    "w_middle = np.asarray([[(np.cos(theta))**(1/3)*I, O],[O, (np.sin(theta))**(1/3)*X]])\n",
    "w_end = np.asarray([(np.cos(theta))**(1/3)*I, -1j*(np.sin(theta))**(1/3)*X]).reshape((2,1,2,2))\n",
    "print(np.cos(theta)**(1/3)*np.sin(theta)**(1/3),np.cos(theta)**(2/3),np.sin(theta)**(2/3))"
   ]
  },
  {
   "cell_type": "code",
   "execution_count": 33,
   "metadata": {},
   "outputs": [
    {
     "name": "stdout",
     "output_type": "stream",
     "text": [
      "[[[[0.62996052 0.        ]\n",
      "   [0.         0.62996052]]\n",
      "\n",
      "  [[0.         0.        ]\n",
      "   [0.         0.        ]]\n",
      "\n",
      "  [[0.         0.75654287]\n",
      "   [0.75654287 0.        ]]\n",
      "\n",
      "  [[0.         0.        ]\n",
      "   [0.         0.        ]]]\n",
      "\n",
      "\n",
      " [[[0.         0.        ]\n",
      "   [0.         0.        ]]\n",
      "\n",
      "  [[0.         0.75654287]\n",
      "   [0.75654287 0.        ]]\n",
      "\n",
      "  [[0.         0.        ]\n",
      "   [0.         0.        ]]\n",
      "\n",
      "  [[0.9085603  0.        ]\n",
      "   [0.         0.9085603 ]]]]\n"
     ]
    }
   ],
   "source": [
    "w_2_l = ncon([w_start,w_middle],[[-1,-3,-5,1],[-2,-4,1,-6]]).reshape((2,4,2,2))\n",
    "print(w_2_l)"
   ]
  },
  {
   "cell_type": "code",
   "execution_count": 30,
   "metadata": {},
   "outputs": [
    {
     "name": "stdout",
     "output_type": "stream",
     "text": [
      "[[[[0.79370053 0.        ]\n",
      "   [0.         0.79370053]]\n",
      "\n",
      "  [[0.         0.95318429]\n",
      "   [0.95318429 0.        ]]]]\n"
     ]
    }
   ],
   "source": [
    "w_1_l = w_start\n",
    "print(w_1_l)"
   ]
  },
  {
   "cell_type": "code",
   "execution_count": 32,
   "metadata": {},
   "outputs": [
    {
     "name": "stdout",
     "output_type": "stream",
     "text": [
      "[[[[0.79370053+0.j         0.        +0.j        ]\n",
      "   [0.        +0.j         0.79370053+0.j        ]]]\n",
      "\n",
      "\n",
      " [[[0.        +0.j         0.        -0.95318429j]\n",
      "   [0.        -0.95318429j 0.        +0.j        ]]]]\n"
     ]
    }
   ],
   "source": [
    "w_1_r = w_end\n",
    "print(w_1_r)"
   ]
  },
  {
   "cell_type": "code",
   "execution_count": 34,
   "metadata": {},
   "outputs": [
    {
     "name": "stdout",
     "output_type": "stream",
     "text": [
      "[[[[0.62996052+0.j         0.        +0.j        ]\n",
      "   [0.        +0.j         0.62996052+0.j        ]]\n",
      "\n",
      "  [[0.        +0.j         0.        +0.j        ]\n",
      "   [0.        +0.j         0.        +0.j        ]]]\n",
      "\n",
      "\n",
      " [[[0.        +0.j         0.        -0.75654287j]\n",
      "   [0.        -0.75654287j 0.        +0.j        ]]\n",
      "\n",
      "  [[0.        +0.j         0.        +0.j        ]\n",
      "   [0.        +0.j         0.        +0.j        ]]]\n",
      "\n",
      "\n",
      " [[[0.        +0.j         0.        +0.j        ]\n",
      "   [0.        +0.j         0.        +0.j        ]]\n",
      "\n",
      "  [[0.        +0.j         0.75654287+0.j        ]\n",
      "   [0.75654287+0.j         0.        +0.j        ]]]\n",
      "\n",
      "\n",
      " [[[0.        +0.j         0.        +0.j        ]\n",
      "   [0.        +0.j         0.        +0.j        ]]\n",
      "\n",
      "  [[0.        -0.9085603j  0.        +0.j        ]\n",
      "   [0.        +0.j         0.        -0.9085603j ]]]]\n"
     ]
    }
   ],
   "source": [
    "w_2_r = ncon([w_middle,w_end],[[-1,-3,-5,1],[-2,-4,1,-6]]).reshape((4,2,2,2))\n",
    "print(w_2_r)"
   ]
  },
  {
   "cell_type": "code",
   "execution_count": 70,
   "metadata": {},
   "outputs": [
    {
     "data": {
      "text/plain": [
       "array([[[[0.5       +0.j        , 0.        +0.j        ],\n",
       "         [0.        +0.j        , 0.5       +0.j        ]],\n",
       "\n",
       "        [[0.        +0.j        , 0.        +0.j        ],\n",
       "         [0.        +0.j        , 0.        +0.j        ]],\n",
       "\n",
       "        [[0.        +0.j        , 0.60046848+0.j        ],\n",
       "         [0.60046848+0.j        , 0.        +0.j        ]],\n",
       "\n",
       "        [[0.        +0.j        , 0.        +0.j        ],\n",
       "         [0.        +0.j        , 0.        +0.j        ]]],\n",
       "\n",
       "\n",
       "       [[[0.        +0.j        , 0.        -0.60046848j],\n",
       "         [0.        -0.60046848j, 0.        +0.j        ]],\n",
       "\n",
       "        [[0.        +0.j        , 0.        +0.j        ],\n",
       "         [0.        +0.j        , 0.        +0.j        ]],\n",
       "\n",
       "        [[0.        -0.72112479j, 0.        +0.j        ],\n",
       "         [0.        +0.j        , 0.        -0.72112479j]],\n",
       "\n",
       "        [[0.        +0.j        , 0.        +0.j        ],\n",
       "         [0.        +0.j        , 0.        +0.j        ]]],\n",
       "\n",
       "\n",
       "       [[[0.        +0.j        , 0.        +0.j        ],\n",
       "         [0.        +0.j        , 0.        +0.j        ]],\n",
       "\n",
       "        [[0.        +0.j        , 0.60046848+0.j        ],\n",
       "         [0.60046848+0.j        , 0.        +0.j        ]],\n",
       "\n",
       "        [[0.        +0.j        , 0.        +0.j        ],\n",
       "         [0.        +0.j        , 0.        +0.j        ]],\n",
       "\n",
       "        [[0.72112479+0.j        , 0.        +0.j        ],\n",
       "         [0.        +0.j        , 0.72112479+0.j        ]]],\n",
       "\n",
       "\n",
       "       [[[0.        +0.j        , 0.        +0.j        ],\n",
       "         [0.        +0.j        , 0.        +0.j        ]],\n",
       "\n",
       "        [[0.        -0.72112479j, 0.        +0.j        ],\n",
       "         [0.        +0.j        , 0.        -0.72112479j]],\n",
       "\n",
       "        [[0.        +0.j        , 0.        +0.j        ],\n",
       "         [0.        +0.j        , 0.        +0.j        ]],\n",
       "\n",
       "        [[0.        +0.j        , 0.        -0.8660254j ],\n",
       "         [0.        -0.8660254j , 0.        +0.j        ]]]])"
      ]
     },
     "execution_count": 70,
     "metadata": {},
     "output_type": "execute_result"
    }
   ],
   "source": [
    "w_b_1 = ncon([w_start,w_middle,w_end],[[-1,-4,-7,1],[-2,-5,1,2],[-3,-6,2,-8]]).reshape((4,4,2,2))\n",
    "w_b_1"
   ]
  },
  {
   "cell_type": "markdown",
   "metadata": {},
   "source": [
    "We can visualize it with `sympy`"
   ]
  },
  {
   "cell_type": "code",
   "execution_count": 46,
   "metadata": {},
   "outputs": [],
   "source": [
    "from sympy import *\n",
    "theta, I, O, X, i = symbols('θ I O X i')"
   ]
  },
  {
   "cell_type": "code",
   "execution_count": 68,
   "metadata": {},
   "outputs": [],
   "source": [
    "w_l1 = Matrix([[(cos(theta))**(S(1)/3)* I, (sin(theta))**(S(1)/3)*X]])\n",
    "w_l2 = Matrix([[(cos(theta))**(S(2)/3)* I, O, (sin(theta)*cos(theta))**(S(1)/3)*X, O],[O, (sin(theta)*cos(theta))**(S(1)/3)*X, O, (sin(theta))**(S(2)/3)*I]])\n",
    "w_r1 = Matrix([[(cos(theta))**(S(1)/3)* I],[-i*(sin(theta))**(S(1)/3)*X]])\n",
    "w_r2 = Matrix([[(cos(theta))**(S(2)/3)* I, O],\n",
    "                [-i*(sin(theta)*cos(theta))**(S(1)/3)*X, O],\n",
    "                [O, (sin(theta)*cos(theta))**(S(1)/3)*X],\n",
    "                [O, -(sin(theta))**(S(2)/3)*I]])"
   ]
  },
  {
   "cell_type": "code",
   "execution_count": 67,
   "metadata": {},
   "outputs": [
    {
     "data": {
      "text/latex": [
       "$\\displaystyle \\left[\\begin{matrix}I \\sqrt[3]{\\cos{\\left(θ \\right)}} & X \\sqrt[3]{\\sin{\\left(θ \\right)}}\\end{matrix}\\right]$"
      ],
      "text/plain": [
       "Matrix([[I*cos(θ)**(1/3), X*sin(θ)**(1/3)]])"
      ]
     },
     "metadata": {},
     "output_type": "display_data"
    },
    {
     "data": {
      "text/latex": [
       "$\\displaystyle \\left[\\begin{matrix}I \\cos^{\\frac{2}{3}}{\\left(θ \\right)} & O & X \\sqrt[3]{\\sin{\\left(θ \\right)} \\cos{\\left(θ \\right)}} & O\\\\O & X \\sqrt[3]{\\sin{\\left(θ \\right)} \\cos{\\left(θ \\right)}} & O & I \\sin^{\\frac{2}{3}}{\\left(θ \\right)}\\end{matrix}\\right]$"
      ],
      "text/plain": [
       "Matrix([\n",
       "[I*cos(θ)**(2/3),                        O, X*(sin(θ)*cos(θ))**(1/3),               O],\n",
       "[              O, X*(sin(θ)*cos(θ))**(1/3),                        O, I*sin(θ)**(2/3)]])"
      ]
     },
     "metadata": {},
     "output_type": "display_data"
    },
    {
     "data": {
      "text/latex": [
       "$\\displaystyle \\left[\\begin{matrix}I \\sqrt[3]{\\cos{\\left(θ \\right)}}\\\\- X i \\sqrt[3]{\\sin{\\left(θ \\right)}}\\end{matrix}\\right]$"
      ],
      "text/plain": [
       "Matrix([\n",
       "[   I*cos(θ)**(1/3)],\n",
       "[-X*i*sin(θ)**(1/3)]])"
      ]
     },
     "metadata": {},
     "output_type": "display_data"
    },
    {
     "data": {
      "text/latex": [
       "$\\displaystyle \\left[\\begin{matrix}I \\cos^{\\frac{2}{3}}{\\left(θ \\right)} & O\\\\- X i \\sqrt[3]{\\sin{\\left(θ \\right)} \\cos{\\left(θ \\right)}} & O\\\\O & X \\sqrt[3]{\\sin{\\left(θ \\right)} \\cos{\\left(θ \\right)}}\\\\O & - I \\sin^{\\frac{2}{3}}{\\left(θ \\right)}\\end{matrix}\\right]$"
      ],
      "text/plain": [
       "Matrix([\n",
       "[            I*cos(θ)**(2/3),                        O],\n",
       "[-X*i*(sin(θ)*cos(θ))**(1/3),                        O],\n",
       "[                          O, X*(sin(θ)*cos(θ))**(1/3)],\n",
       "[                          O,         -I*sin(θ)**(2/3)]])"
      ]
     },
     "metadata": {},
     "output_type": "display_data"
    }
   ],
   "source": [
    "display(w_l1,w_l2,w_r1,w_r2)"
   ]
  }
 ],
 "metadata": {
  "kernelspec": {
   "display_name": "qs_qh",
   "language": "python",
   "name": "python3"
  },
  "language_info": {
   "codemirror_mode": {
    "name": "ipython",
    "version": 3
   },
   "file_extension": ".py",
   "mimetype": "text/x-python",
   "name": "python",
   "nbconvert_exporter": "python",
   "pygments_lexer": "ipython3",
   "version": "3.12.3"
  }
 },
 "nbformat": 4,
 "nbformat_minor": 2
}
