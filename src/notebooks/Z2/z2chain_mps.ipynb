{
 "cells": [
  {
   "cell_type": "code",
   "execution_count": null,
   "metadata": {},
   "outputs": [],
   "source": [
    "%load_ext autoreload\n",
    "%autoreload 2"
   ]
  },
  {
   "cell_type": "code",
   "execution_count": null,
   "metadata": {},
   "outputs": [],
   "source": [
    "from fradm.tn_test import *\n",
    "import matplotlib.pyplot as plt\n",
    "from ncon import ncon"
   ]
  },
  {
   "cell_type": "markdown",
   "metadata": {},
   "source": [
    "# MPS run with TEBD ($2^{nd}$ order)"
   ]
  },
  {
   "cell_type": "markdown",
   "metadata": {},
   "source": [
    "## DMRG test of the massive Z2 chain"
   ]
  },
  {
   "cell_type": "code",
   "execution_count": null,
   "metadata": {},
   "outputs": [],
   "source": [
    "L = 7\n",
    "chi = 8\n",
    "chain = Z2_chain_massive_mps(L=L, d=2, chi=chi, J=1, h1=0.1, h2=0.1)\n",
    "chain._random_state(seed=3, chi=chi)\n",
    "chain.canonical_form()\n",
    "chain.DMRG(trunc_tol=False, trunc_chi=True)\n",
    "# chain.DMRG(trunc_tol=True, trunc_chi=False)\n",
    "tensor_shapes(chain.sites)\n",
    "Z = np.array([[1,0],[0,-1]])\n",
    "Z = np.array([[1,0],[0,-1]])\n",
    "exp_vals = []\n",
    "for i in range(L):\n",
    "    chain.local_order_param(site=i)\n",
    "    occup = chain.mpo_first_moment().real\n",
    "    exp_vals.append(occup)"
   ]
  },
  {
   "cell_type": "markdown",
   "metadata": {},
   "source": [
    "## TEBD test of the massive Z2 chain"
   ]
  },
  {
   "cell_type": "markdown",
   "metadata": {},
   "source": [
    "### Test initial state for occupation"
   ]
  },
  {
   "cell_type": "code",
   "execution_count": null,
   "metadata": {},
   "outputs": [],
   "source": [
    "occup_state = np.array([0,1]).reshape((1,2,1))\n",
    "vacuum_state = np.array([1,0]).reshape((1,2,1))\n",
    "vacuum_tensor = [vacuum_state for _ in range(L)]\n",
    "vacuum_tensor[L//2] = occup_state\n",
    "vacuum_tensor[L//2-1] = occup_state\n",
    "vacuum_tensor[L//2+1] = occup_state\n",
    "perturbed_tensor = vacuum_tensor"
   ]
  },
  {
   "cell_type": "code",
   "execution_count": null,
   "metadata": {},
   "outputs": [],
   "source": [
    "chi = 8\n",
    "chain = Z2_chain_massive_mps(L=L, d=2, chi=chi, J=1, h1=0.1, h2=0.1)\n",
    "chain.sites = perturbed_tensor\n",
    "chain.enlarge_chi()\n",
    "params_quench = dict(trotter_steps = 100,\n",
    "        delta = 0.1,\n",
    "        n_sweeps = 8,\n",
    "        conv_tol = 1e-10,\n",
    "        bond = True,\n",
    "        where = -1)\n",
    "errs, entrs, smvs = chain.TEBD_Z2_chain(params_quench=params_quench)"
   ]
  },
  {
   "cell_type": "code",
   "execution_count": null,
   "metadata": {},
   "outputs": [],
   "source": [
    "plt.plot(entrs)"
   ]
  },
  {
   "cell_type": "markdown",
   "metadata": {},
   "source": [
    "## TEBD run of the massive Z2 chain"
   ]
  },
  {
   "cell_type": "code",
   "execution_count": null,
   "metadata": {},
   "outputs": [],
   "source": [
    "chis = [8]\n",
    "L = 23\n",
    "occup_state = np.array([0,1]).reshape((1,2,1))\n",
    "vacuum_state = np.array([1,0]).reshape((1,2,1))\n",
    "vacuum_tensor = [vacuum_state for _ in range(L)]\n",
    "vacuum_tensor[L//2] = occup_state\n",
    "vacuum_tensor[L//2-1] = occup_state\n",
    "vacuum_tensor[L//2+1] = occup_state\n",
    "perturbed_tensor = vacuum_tensor\n",
    "for chi in chis:\n",
    "        chain = Z2_chain_massive_mps(L=L, d=2, chi=chi, J=1, h1=0.05, h2=0.5)\n",
    "        chain.sites = perturbed_tensor\n",
    "        chain.enlarge_chi()\n",
    "        params_quench = dict(trotter_steps = 100,\n",
    "                delta = 0.1,\n",
    "                n_sweeps = 8,\n",
    "                conv_tol = 1e-10,\n",
    "                bond = True,\n",
    "                where = -1)\n",
    "        errs, entrs, smvs, evs = chain.TEBD_Z2_chain(params_quench=params_quench)\n",
    "        plt.plot(entrs, label=f\"chi: {chi}\")\n",
    "        # plt.matshow((1-evs)/2, cmap='inferno', aspect=0.5, vmin=0, vmax=1)\n",
    "\n",
    "plt.title(\"Entanglement Entropy for $L=$\"+f\"${L}$\")\n",
    "plt.xlabel(\"Trotter step $(T)$\")\n",
    "plt.ylabel(\"Entanglement Entropy $(S_{vn})$\")\n",
    "plt.legend()"
   ]
  },
  {
   "cell_type": "code",
   "execution_count": null,
   "metadata": {},
   "outputs": [],
   "source": [
    "fig, ax = plt.subplots(1,1,figsize=(15,15))\n",
    "ax.matshow((1-evs)/2, cmap='inferno', vmin=0, vmax=1)"
   ]
  },
  {
   "cell_type": "markdown",
   "metadata": {},
   "source": [
    "## Construct MPO"
   ]
  },
  {
   "cell_type": "markdown",
   "metadata": {},
   "source": [
    "We define mpos for the mass and gauge sites, we have to use them to find a single mpo for the bulk of the chain and the boundaries"
   ]
  },
  {
   "cell_type": "markdown",
   "metadata": {},
   "source": [
    "### Exact terms"
   ]
  },
  {
   "cell_type": "code",
   "execution_count": 198,
   "metadata": {},
   "outputs": [
    {
     "name": "stderr",
     "output_type": "stream",
     "text": [
      "/var/folders/32/fk_0xqj113d4fp2cxfpqtfd40000gr/T/ipykernel_17455/507019043.py:10: DeprecationWarning: The Python built-in `round` is deprecated for complex scalars, and will raise a `TypeError` in a future release. Use `np.round` or `scalar.round` instead.\n",
      "  [(_[i][0],_[i][1]) for i in range(len(_)) if round(_[i][0],10) != 0]\n"
     ]
    },
    {
     "data": {
      "text/plain": [
       "[((2.1213203435596424+0j), 'IIIIIII'),\n",
       " (0.7071067811865476j, 'IIIIXXX'),\n",
       " (0.7071067811865476j, 'IIXXXII'),\n",
       " (0.7071067811865476j, 'XXXIIII')]"
      ]
     },
     "execution_count": 198,
     "metadata": {},
     "output_type": "execute_result"
    }
   ],
   "source": [
    "def interaction_term(L):\n",
    "    int = np.zeros((2**L,2**L))\n",
    "    for i in range(0,L-2,2):\n",
    "        int += linalg.expm(1j*np.pi/4*(sparse_pauli_x(n=i,L=L) @ sparse_pauli_x(n=i+1,L=L) @ sparse_pauli_x(n=i+2,L=L)))\n",
    "\n",
    "    return int\n",
    "\n",
    "int_term_trott = interaction_term(7)\n",
    "res, _ = pauli_decomposition(int_term_trott)\n",
    "[(_[i][0],_[i][1]) for i in range(len(_)) if round(_[i][0],10) != 0]"
   ]
  },
  {
   "cell_type": "code",
   "execution_count": 199,
   "metadata": {},
   "outputs": [
    {
     "name": "stdout",
     "output_type": "stream",
     "text": [
      "0.7937005259840998 0.7937005259840998 0.7937005259840997\n"
     ]
    }
   ],
   "source": [
    "theta = np.pi/4\n",
    "I = identity(2).toarray()\n",
    "O = np.zeros((2,2))\n",
    "X = sparse_pauli_x(0,1).toarray()\n",
    "w_start = np.asarray([(np.cos(theta))**(1/3)*I, (np.sin(theta))**(1/3)*X]).reshape((1,2,2,2))\n",
    "w_middle = np.asarray([[(np.cos(theta))**(1/3)*I, O],[O, (np.sin(theta))**(1/3)*X]])\n",
    "w_end = np.asarray([(np.cos(theta))**(1/3)*I, 1j*(np.sin(theta))**(1/3)*X]).reshape((2,1,2,2))\n",
    "print(np.cos(theta)**(1/3)*np.sin(theta)**(1/3),np.cos(theta)**(2/3),np.sin(theta)**(2/3))"
   ]
  },
  {
   "cell_type": "code",
   "execution_count": 202,
   "metadata": {},
   "outputs": [],
   "source": [
    "w_b_1 = ncon([w_start,w_end],[[-1,-3,-5,1],[-2,-4,1,-6]]).reshape((2,2,2,2))\n",
    "w_b_2 = ncon([w_end,w_start],[[-1,-3,-5,1],[-2,-4,1,-6]]).reshape((2,2,2,2))"
   ]
  },
  {
   "cell_type": "code",
   "execution_count": 210,
   "metadata": {},
   "outputs": [],
   "source": [
    "v_l = np.array([1])\n",
    "v_r = v_l\n",
    "# mat = ncon([v_l,w_start,w_middle,w_b_1,w_middle,w_b_2,w_middle,w_end,v_r],[[1],[1,2,-1,-8],[2,3,-2,-9],[3,4,-3,-10],[4,5,-4,-11],[5,6,-5,-12],[6,7,-6,-13],[7,8,-7,-14],[8]])\n",
    "mat = ncon([v_l,w_start,w_middle,w_end,v_r,v_l,w_start,w_middle,w_end,v_r,v_l,w_start,w_middle,w_end,v_r],[[1],[1,2,-1,-8],[2,3,-2,-9],[3,5,4,-10],[5],[6],[6,7,-3,4],[7,8,-4,-11],[8,9,-5,10],[9],[11],[11,12,10,-12],[12,13,-6,-13],[13,14,-7,-14],[14]])\n",
    "mat = mat.reshape((2**7,2**7))\n",
    "from qiskit.quantum_info import SparsePauliOp\n",
    "decomp = SparsePauliOp.from_operator(mat)\n",
    "# res, _ = pauli_decomposition(mat)\n",
    "# [(_[i][0],_[i][1]) for i in range(len(_)) if np.round(_[i][0],10) != 0]"
   ]
  },
  {
   "cell_type": "code",
   "execution_count": 232,
   "metadata": {},
   "outputs": [
    {
     "data": {
      "text/plain": [
       "\"'IIIIIII', 'IIIIXXX', 'IIXXIXX', 'IIXXXII', 'XXIXIXX', 'XXIXXII', 'XXXIIII', 'XXXIXXX'\""
      ]
     },
     "execution_count": 232,
     "metadata": {},
     "output_type": "execute_result"
    }
   ],
   "source": [
    "decomp.__repr__()[15:101]"
   ]
  },
  {
   "cell_type": "code",
   "execution_count": 205,
   "metadata": {},
   "outputs": [
    {
     "data": {
      "text/plain": [
       "[((0.7071067811865477+0j), 'III'), (0.7071067811865475j, 'XXX')]"
      ]
     },
     "execution_count": 205,
     "metadata": {},
     "output_type": "execute_result"
    }
   ],
   "source": [
    "mat = ncon([v_l,w_start,w_middle,w_end,v_r],[[1],[1,2,-1,-4],[2,3,-2,-5],[3,4,-3,-6],[4]]).reshape((8,8))\n",
    "res, _ = pauli_decomposition(mat)\n",
    "[(_[i][0],_[i][1]) for i in range(len(_)) if _[i][0] != 0]"
   ]
  },
  {
   "cell_type": "markdown",
   "metadata": {},
   "source": [
    "We can visualize it with `sympy`"
   ]
  },
  {
   "cell_type": "code",
   "execution_count": null,
   "metadata": {},
   "outputs": [],
   "source": [
    "from sympy import *\n",
    "theta, I, O, X, i = symbols('θ I O X i')"
   ]
  },
  {
   "cell_type": "code",
   "execution_count": null,
   "metadata": {},
   "outputs": [],
   "source": [
    "w_l1 = Matrix([[(cos(theta))**(S(1)/3)* I, (sin(theta))**(S(1)/3)*X]])\n",
    "w_l2 = Matrix([[(cos(theta))**(S(2)/3)* I, O, (sin(theta)*cos(theta))**(S(1)/3)*X, O],[O, (sin(theta)*cos(theta))**(S(1)/3)*X, O, (sin(theta))**(S(2)/3)*I]])\n",
    "w_r1 = Matrix([[(cos(theta))**(S(1)/3)* I],[-i*(sin(theta))**(S(1)/3)*X]])\n",
    "w_r2 = Matrix([[(cos(theta))**(S(2)/3)* I, O],\n",
    "                [-i*(sin(theta)*cos(theta))**(S(1)/3)*X, O],\n",
    "                [O, (sin(theta)*cos(theta))**(S(1)/3)*X],\n",
    "                [O, -(sin(theta))**(S(2)/3)*I]])"
   ]
  },
  {
   "cell_type": "code",
   "execution_count": null,
   "metadata": {},
   "outputs": [],
   "source": [
    "display(w_l1,w_l2,w_r1,w_r2)"
   ]
  }
 ],
 "metadata": {
  "kernelspec": {
   "display_name": "qs_qh",
   "language": "python",
   "name": "python3"
  },
  "language_info": {
   "codemirror_mode": {
    "name": "ipython",
    "version": 3
   },
   "file_extension": ".py",
   "mimetype": "text/x-python",
   "name": "python",
   "nbconvert_exporter": "python",
   "pygments_lexer": "ipython3",
   "version": "3.1.undefined"
  }
 },
 "nbformat": 4,
 "nbformat_minor": 2
}
