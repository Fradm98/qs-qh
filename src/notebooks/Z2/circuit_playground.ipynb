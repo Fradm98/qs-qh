{
 "cells": [
  {
   "cell_type": "code",
   "execution_count": 2,
   "metadata": {},
   "outputs": [],
   "source": [
    "from utils.circs import append_basis_change_circuit\n",
    "from qiskit import QuantumCircuit\n",
    "from qiskit_ibm_runtime import QiskitRuntimeService\n",
    "from qiskit.transpiler.preset_passmanagers import generate_preset_pass_manager"
   ]
  },
  {
   "cell_type": "code",
   "execution_count": 22,
   "metadata": {},
   "outputs": [
    {
     "data": {
      "text/html": [
       "<pre style=\"word-wrap: normal;white-space: pre;background: #fff0;line-height: 1.1;font-family: &quot;Courier New&quot;,Courier,monospace\">     ┌───┐   ┌───┐┌─┐         \n",
       "q_0: ┤ H ├─■─┤ H ├┤M├─────────\n",
       "     ├───┤ │ ├───┤└╥┘┌─┐      \n",
       "q_1: ┤ H ├─■─┤ H ├─╫─┤M├──────\n",
       "     ├───┤   ├───┤ ║ └╥┘┌─┐   \n",
       "q_2: ┤ H ├─■─┤ H ├─╫──╫─┤M├───\n",
       "     ├───┤ │ ├───┤ ║  ║ └╥┘┌─┐\n",
       "q_3: ┤ H ├─■─┤ H ├─╫──╫──╫─┤M├\n",
       "     └───┘   └───┘ ║  ║  ║ └╥┘\n",
       "q_4: ──────────────╫──╫──╫──╫─\n",
       "                   ║  ║  ║  ║ \n",
       "c: 5/══════════════╩══╩══╩══╩═\n",
       "                   0  1  2  3 </pre>"
      ],
      "text/plain": [
       "     ┌───┐   ┌───┐┌─┐         \n",
       "q_0: ┤ H ├─■─┤ H ├┤M├─────────\n",
       "     ├───┤ │ ├───┤└╥┘┌─┐      \n",
       "q_1: ┤ H ├─■─┤ H ├─╫─┤M├──────\n",
       "     ├───┤   ├───┤ ║ └╥┘┌─┐   \n",
       "q_2: ┤ H ├─■─┤ H ├─╫──╫─┤M├───\n",
       "     ├───┤ │ ├───┤ ║  ║ └╥┘┌─┐\n",
       "q_3: ┤ H ├─■─┤ H ├─╫──╫──╫─┤M├\n",
       "     └───┘   └───┘ ║  ║  ║ └╥┘\n",
       "q_4: ──────────────╫──╫──╫──╫─\n",
       "                   ║  ║  ║  ║ \n",
       "c: 5/══════════════╩══╩══╩══╩═\n",
       "                   0  1  2  3 "
      ]
     },
     "execution_count": 22,
     "metadata": {},
     "output_type": "execute_result"
    }
   ],
   "source": [
    "import numpy as np\n",
    "\n",
    "qc = QuantumCircuit(5, 5)\n",
    "qc.h(0)\n",
    "qc.h(1)\n",
    "qc.cz(0, 1)\n",
    "qc.h(0)\n",
    "qc.h(1)\n",
    "qc.h(2)\n",
    "qc.h(3)\n",
    "qc.cz(2, 3)\n",
    "qc.h(2)\n",
    "qc.h(3)\n",
    "qc.measure(np.arange(4), np.arange(4))\n",
    "qc.draw()"
   ]
  },
  {
   "cell_type": "code",
   "execution_count": 4,
   "metadata": {},
   "outputs": [],
   "source": [
    "from cobos.tokens import ibm_token, group_instance\n",
    "from qiskit_ibm_runtime.fake_provider import FakeSherbrooke\n",
    "\n",
    "service = QiskitRuntimeService(channel=\"ibm_quantum\", token=ibm_token, instance=group_instance)\n",
    "backend = FakeSherbrooke()"
   ]
  },
  {
   "cell_type": "code",
   "execution_count": 23,
   "metadata": {},
   "outputs": [
    {
     "data": {
      "text/html": [
       "<pre style=\"word-wrap: normal;white-space: pre;background: #fff0;line-height: 1.1;font-family: &quot;Courier New&quot;,Courier,monospace\">global phase: π/2\n",
       "         ┌─────────┐ ┌────┐┌─────────────┐┌────┐┌─────────┐┌──────┐»\n",
       "q_0 -> 0 ┤ Rz(π/2) ├─┤ √X ├┤ Rz(-1.9731) ├┤ √X ├┤ Rz(π/2) ├┤1     ├»\n",
       "         ├─────────┴┐├────┤├─────────────┤└────┘└─────────┘│  Ecr │»\n",
       "q_1 -> 1 ┤ Rz(-π/2) ├┤ √X ├┤ Rz(-2.0406) ├─────────────────┤0     ├»\n",
       "         ├─────────┬┘├────┤├─────────────┤┌────┐┌─────────┐├──────┤»\n",
       "q_2 -> 2 ┤ Rz(π/2) ├─┤ √X ├┤ Rz(-1.9731) ├┤ √X ├┤ Rz(π/2) ├┤1     ├»\n",
       "         ├─────────┴┐├────┤├─────────────┤└────┘└─────────┘│  Ecr │»\n",
       "q_3 -> 3 ┤ Rz(-π/2) ├┤ √X ├┤ Rz(-2.0406) ├─────────────────┤0     ├»\n",
       "         └──────────┘└────┘└─────────────┘                 └──────┘»\n",
       "    c: 5/══════════════════════════════════════════════════════════»\n",
       "                                                                   »\n",
       "«           ┌─────────┐   ┌────┐┌─────────────┐┌────┐┌─────────┐           ┌─┐»\n",
       "«q_0 -> 0 ──┤ Rz(π/2) ├───┤ √X ├┤ Rz(-2.7393) ├┤ √X ├┤ Rz(π/2) ├───────────┤M├»\n",
       "«         ┌─┴─────────┴──┐├────┤└─┬─────────┬─┘└────┘└───┬─┬───┘           └╥┘»\n",
       "«q_1 -> 1 ┤ Rz(-0.46978) ├┤ √X ├──┤ Rz(π/2) ├────────────┤M├────────────────╫─»\n",
       "«         └─┬─────────┬──┘├────┤┌─┴─────────┴─┐┌────┐    └╥┘    ┌─────────┐ ║ »\n",
       "«q_2 -> 2 ──┤ Rz(π/2) ├───┤ √X ├┤ Rz(-2.7393) ├┤ √X ├─────╫─────┤ Rz(π/2) ├─╫─»\n",
       "«         ┌─┴─────────┴──┐├────┤└─┬─────────┬─┘└┬─┬─┘     ║     └─────────┘ ║ »\n",
       "«q_3 -> 3 ┤ Rz(-0.46978) ├┤ √X ├──┤ Rz(π/2) ├───┤M├───────╫─────────────────╫─»\n",
       "«         └──────────────┘└────┘  └─────────┘   └╥┘       ║                 ║ »\n",
       "«    c: 5/═══════════════════════════════════════╩════════╩═════════════════╩═»\n",
       "«                                                3        1                 0 »\n",
       "«            \n",
       "«q_0 -> 0 ───\n",
       "«            \n",
       "«q_1 -> 1 ───\n",
       "«         ┌─┐\n",
       "«q_2 -> 2 ┤M├\n",
       "«         └╥┘\n",
       "«q_3 -> 3 ─╫─\n",
       "«          ║ \n",
       "«    c: 5/═╩═\n",
       "«          2 </pre>"
      ],
      "text/plain": [
       "global phase: π/2\n",
       "         ┌─────────┐ ┌────┐┌─────────────┐┌────┐┌─────────┐┌──────┐»\n",
       "q_0 -> 0 ┤ Rz(π/2) ├─┤ √X ├┤ Rz(-1.9731) ├┤ √X ├┤ Rz(π/2) ├┤1     ├»\n",
       "         ├─────────┴┐├────┤├─────────────┤└────┘└─────────┘│  Ecr │»\n",
       "q_1 -> 1 ┤ Rz(-π/2) ├┤ √X ├┤ Rz(-2.0406) ├─────────────────┤0     ├»\n",
       "         ├─────────┬┘├────┤├─────────────┤┌────┐┌─────────┐├──────┤»\n",
       "q_2 -> 2 ┤ Rz(π/2) ├─┤ √X ├┤ Rz(-1.9731) ├┤ √X ├┤ Rz(π/2) ├┤1     ├»\n",
       "         ├─────────┴┐├────┤├─────────────┤└────┘└─────────┘│  Ecr │»\n",
       "q_3 -> 3 ┤ Rz(-π/2) ├┤ √X ├┤ Rz(-2.0406) ├─────────────────┤0     ├»\n",
       "         └──────────┘└────┘└─────────────┘                 └──────┘»\n",
       "    c: 5/══════════════════════════════════════════════════════════»\n",
       "                                                                   »\n",
       "«           ┌─────────┐   ┌────┐┌─────────────┐┌────┐┌─────────┐           ┌─┐»\n",
       "«q_0 -> 0 ──┤ Rz(π/2) ├───┤ √X ├┤ Rz(-2.7393) ├┤ √X ├┤ Rz(π/2) ├───────────┤M├»\n",
       "«         ┌─┴─────────┴──┐├────┤└─┬─────────┬─┘└────┘└───┬─┬───┘           └╥┘»\n",
       "«q_1 -> 1 ┤ Rz(-0.46978) ├┤ √X ├──┤ Rz(π/2) ├────────────┤M├────────────────╫─»\n",
       "«         └─┬─────────┬──┘├────┤┌─┴─────────┴─┐┌────┐    └╥┘    ┌─────────┐ ║ »\n",
       "«q_2 -> 2 ──┤ Rz(π/2) ├───┤ √X ├┤ Rz(-2.7393) ├┤ √X ├─────╫─────┤ Rz(π/2) ├─╫─»\n",
       "«         ┌─┴─────────┴──┐├────┤└─┬─────────┬─┘└┬─┬─┘     ║     └─────────┘ ║ »\n",
       "«q_3 -> 3 ┤ Rz(-0.46978) ├┤ √X ├──┤ Rz(π/2) ├───┤M├───────╫─────────────────╫─»\n",
       "«         └──────────────┘└────┘  └─────────┘   └╥┘       ║                 ║ »\n",
       "«    c: 5/═══════════════════════════════════════╩════════╩═════════════════╩═»\n",
       "«                                                3        1                 0 »\n",
       "«            \n",
       "«q_0 -> 0 ───\n",
       "«            \n",
       "«q_1 -> 1 ───\n",
       "«         ┌─┐\n",
       "«q_2 -> 2 ┤M├\n",
       "«         └╥┘\n",
       "«q_3 -> 3 ─╫─\n",
       "«          ║ \n",
       "«    c: 5/═╩═\n",
       "«          2 "
      ]
     },
     "execution_count": 23,
     "metadata": {},
     "output_type": "execute_result"
    }
   ],
   "source": [
    "pm = generate_preset_pass_manager(backend=backend, initial_layout=[0, 1, 2, 3, 4], optimization_level=2)\n",
    "tqc = pm.run(qc)\n",
    "tqc.draw(idle_wires=False)"
   ]
  },
  {
   "cell_type": "code",
   "execution_count": 24,
   "metadata": {},
   "outputs": [
    {
     "data": {
      "text/plain": [
       "1"
      ]
     },
     "execution_count": 24,
     "metadata": {},
     "output_type": "execute_result"
    }
   ],
   "source": [
    "tqc.depth(lambda x: len(x.qubits)>1)"
   ]
  },
  {
   "cell_type": "code",
   "execution_count": 6,
   "metadata": {},
   "outputs": [
    {
     "data": {
      "text/plain": [
       "[CircuitInstruction(operation=Instruction(name='rz', num_qubits=1, num_clbits=0, params=[-1.5707963267948966]), qubits=(Qubit(QuantumRegister(127, 'q'), 0),), clbits=()), CircuitInstruction(operation=Instruction(name='sx', num_qubits=1, num_clbits=0, params=[]), qubits=(Qubit(QuantumRegister(127, 'q'), 0),), clbits=()), CircuitInstruction(operation=Instruction(name='rz', num_qubits=1, num_clbits=0, params=[1.5707963267948966]), qubits=(Qubit(QuantumRegister(127, 'q'), 0),), clbits=()), CircuitInstruction(operation=Instruction(name='x', num_qubits=1, num_clbits=0, params=[]), qubits=(Qubit(QuantumRegister(127, 'q'), 1),), clbits=()), CircuitInstruction(operation=Instruction(name='ecr', num_qubits=2, num_clbits=0, params=[]), qubits=(Qubit(QuantumRegister(127, 'q'), 1), Qubit(QuantumRegister(127, 'q'), 0)), clbits=()), CircuitInstruction(operation=Instruction(name='rz', num_qubits=1, num_clbits=0, params=[1.5707963267948966]), qubits=(Qubit(QuantumRegister(127, 'q'), 0),), clbits=()), CircuitInstruction(operation=Instruction(name='sx', num_qubits=1, num_clbits=0, params=[]), qubits=(Qubit(QuantumRegister(127, 'q'), 0),), clbits=()), CircuitInstruction(operation=Instruction(name='sx', num_qubits=1, num_clbits=0, params=[]), qubits=(Qubit(QuantumRegister(127, 'q'), 2),), clbits=()), CircuitInstruction(operation=Instruction(name='rz', num_qubits=1, num_clbits=0, params=[1.5707963267948966]), qubits=(Qubit(QuantumRegister(127, 'q'), 2),), clbits=()), CircuitInstruction(operation=Instruction(name='ecr', num_qubits=2, num_clbits=0, params=[]), qubits=(Qubit(QuantumRegister(127, 'q'), 1), Qubit(QuantumRegister(127, 'q'), 2)), clbits=()), CircuitInstruction(operation=Instruction(name='x', num_qubits=1, num_clbits=0, params=[]), qubits=(Qubit(QuantumRegister(127, 'q'), 1),), clbits=()), CircuitInstruction(operation=Instruction(name='rz', num_qubits=1, num_clbits=0, params=[1.5707963267948966]), qubits=(Qubit(QuantumRegister(127, 'q'), 2),), clbits=()), CircuitInstruction(operation=Instruction(name='sx', num_qubits=1, num_clbits=0, params=[]), qubits=(Qubit(QuantumRegister(127, 'q'), 2),), clbits=()), CircuitInstruction(operation=Instruction(name='rz', num_qubits=1, num_clbits=0, params=[1.5707963267948966]), qubits=(Qubit(QuantumRegister(127, 'q'), 2),), clbits=()), CircuitInstruction(operation=Instruction(name='measure', num_qubits=1, num_clbits=1, params=[]), qubits=(Qubit(QuantumRegister(127, 'q'), 0),), clbits=(Clbit(ClassicalRegister(5, 'c'), 0),)), CircuitInstruction(operation=Instruction(name='measure', num_qubits=1, num_clbits=1, params=[]), qubits=(Qubit(QuantumRegister(127, 'q'), 1),), clbits=(Clbit(ClassicalRegister(5, 'c'), 1),)), CircuitInstruction(operation=Instruction(name='measure', num_qubits=1, num_clbits=1, params=[]), qubits=(Qubit(QuantumRegister(127, 'q'), 2),), clbits=(Clbit(ClassicalRegister(5, 'c'), 2),)), CircuitInstruction(operation=Instruction(name='measure', num_qubits=1, num_clbits=1, params=[]), qubits=(Qubit(QuantumRegister(127, 'q'), 3),), clbits=(Clbit(ClassicalRegister(5, 'c'), 3),))]"
      ]
     },
     "execution_count": 6,
     "metadata": {},
     "output_type": "execute_result"
    }
   ],
   "source": [
    "tqc.data"
   ]
  },
  {
   "cell_type": "code",
   "execution_count": 16,
   "metadata": {},
   "outputs": [
    {
     "data": {
      "text/plain": [
       "array([0.96848])"
      ]
     },
     "execution_count": 16,
     "metadata": {},
     "output_type": "execute_result"
    }
   ],
   "source": [
    "from utils.hexec import execute_estimator_batch\n",
    "from z2chain.operators import pauli_zs_mean\n",
    "\n",
    "observable_generating_funcs = pauli_zs_mean\n",
    "\n",
    "jobs = execute_estimator_batch(backend, {\"default_precision\": 1e-2}, tqc, observable_generating_funcs)\n",
    "jobs[0].result()[0].data.evs"
   ]
  },
  {
   "cell_type": "code",
   "execution_count": 18,
   "metadata": {},
   "outputs": [],
   "source": [
    "# from utils.circs import append_basis_change_circuit\n",
    "\n",
    "# bctqc = append_basis_change_circuit(tqc, \"X\", backend)\n",
    "# bctqc.draw(idle_wires=False)"
   ]
  },
  {
   "cell_type": "code",
   "execution_count": 19,
   "metadata": {},
   "outputs": [
    {
     "data": {
      "text/plain": [
       "array([[1, 0, 1, 0],\n",
       "       [1, 0, 1, 0],\n",
       "       [1, 0, 1, 0],\n",
       "       [1, 0, 1, 0],\n",
       "       [1, 0, 1, 0]])"
      ]
     },
     "execution_count": 19,
     "metadata": {},
     "output_type": "execute_result"
    }
   ],
   "source": [
    "import numpy as np\n",
    "\n",
    "string = \"1010\"\n",
    "string_arr = np.array([int(c) for c in string])\n",
    "string_rep_arr = np.repeat(np.array([string_arr]), 5, axis=0)\n",
    "string_rep_arr"
   ]
  },
  {
   "cell_type": "code",
   "execution_count": 20,
   "metadata": {},
   "outputs": [
    {
     "data": {
      "text/plain": [
       "True"
      ]
     },
     "execution_count": 20,
     "metadata": {},
     "output_type": "execute_result"
    }
   ],
   "source": [
    "from qiskit.quantum_info import Pauli, PauliList\n",
    "from utils.postselection import is_valid_state_string\n",
    "\n",
    "pops = PauliList([Pauli(\"ZZIII\"), Pauli(\"IZZZI\"), Pauli(\"IIIZZ\")])\n",
    "string = \"11011\"\n",
    "\n",
    "is_valid_state_string(string, pops)"
   ]
  },
  {
   "cell_type": "code",
   "execution_count": 21,
   "metadata": {},
   "outputs": [
    {
     "data": {
      "text/plain": [
       "{Pauli('IIIZZ'), Pauli('IZZZI'), Pauli('ZZIII')}"
      ]
     },
     "execution_count": 21,
     "metadata": {},
     "output_type": "execute_result"
    }
   ],
   "source": [
    "set(pops)"
   ]
  },
  {
   "cell_type": "code",
   "execution_count": 8,
   "metadata": {},
   "outputs": [
    {
     "data": {
      "text/plain": [
       "array([ 1. , -0.9, -0.9])"
      ]
     },
     "execution_count": 8,
     "metadata": {},
     "output_type": "execute_result"
    }
   ],
   "source": [
    "from utils.postselection import measure_diagonal_observables\n",
    "\n",
    "observables = PauliList([Pauli(\"ZIII\"), Pauli(\"IIIZ\"), Pauli(\"ZIIZ\")])\n",
    "samples_dict = {\"1000\": 95, \"0000\": 5}\n",
    "\n",
    "measure_diagonal_observables(samples_dict, observables)"
   ]
  },
  {
   "cell_type": "code",
   "execution_count": null,
   "metadata": {},
   "outputs": [],
   "source": []
  }
 ],
 "metadata": {
  "kernelspec": {
   "display_name": "qiskit",
   "language": "python",
   "name": "python3"
  },
  "language_info": {
   "codemirror_mode": {
    "name": "ipython",
    "version": 3
   },
   "file_extension": ".py",
   "mimetype": "text/x-python",
   "name": "python",
   "nbconvert_exporter": "python",
   "pygments_lexer": "ipython3",
   "version": "3.12.3"
  }
 },
 "nbformat": 4,
 "nbformat_minor": 2
}
