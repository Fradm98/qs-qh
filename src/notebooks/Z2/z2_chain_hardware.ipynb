{
 "cells": [
  {
   "cell_type": "markdown",
   "metadata": {},
   "source": [
    "# Logical circuits creation"
   ]
  },
  {
   "cell_type": "code",
   "execution_count": 1,
   "metadata": {},
   "outputs": [],
   "source": [
    "L = 8\n",
    "J = 1\n",
    "h = 0.05\n",
    "lamb = 0.5\n",
    "\n",
    "particle_pair_left_position = 3\n",
    "particle_pair_length = 1\n",
    "\n",
    "final_time = 10\n",
    "layers = 100\n",
    "measure_every_layers = 1\n",
    "\n",
    "import z2chain.circs as circs\n",
    "\n",
    "logical_circs = circs.particle_pair_quench_simulation_circuits(L, J, h, lamb, particle_pair_left_position, particle_pair_length, final_time, layers, measure_every_layers)\n",
    "# logical_circs[1].draw(output=\"mpl\")"
   ]
  },
  {
   "cell_type": "markdown",
   "metadata": {},
   "source": [
    "# Device selection"
   ]
  },
  {
   "cell_type": "code",
   "execution_count": 2,
   "metadata": {},
   "outputs": [
    {
     "name": "stderr",
     "output_type": "stream",
     "text": [
      "/var/folders/t9/xqv32vzn2pb091tj9_rz1_zh0000gn/T/ipykernel_34042/373737340.py:8: DeprecationWarning: The get_backend() method is deprecated as of qiskit-ibm-runtime 0.24 and will be removed no sooner than 3 months after the release date. Please use backend() instead.\n",
      "  backend = service.get_backend(device)\n"
     ]
    }
   ],
   "source": [
    "from qiskit_ibm_runtime import QiskitRuntimeService\n",
    "from cobos.token import ibm_token\n",
    "\n",
    "channel = \"ibm_quantum\"\n",
    "device = \"ibm_kyiv\"\n",
    "\n",
    "service = QiskitRuntimeService(channel=channel, token=ibm_token)\n",
    "backend = service.get_backend(device)"
   ]
  },
  {
   "cell_type": "markdown",
   "metadata": {},
   "source": [
    "# Circuit transpilation"
   ]
  },
  {
   "cell_type": "code",
   "execution_count": 3,
   "metadata": {},
   "outputs": [],
   "source": [
    "from utils.hexec import transpile\n",
    "\n",
    "optimization_level = 3\n",
    "\n",
    "qubits_inds = None\n",
    "# qubits_inds = [13, 12, 11, 10, 9, 8, 7, 6, 5, 4,\n",
    "#                3, 2, 1, 0, 14, 18, 19, 20, 33, 39, \n",
    "#                38, 37, 52, 56, 57, 58, 59, 60, 53, 41,\n",
    "#                42, 43, 44, 45, 54, 64, 65, 66, 67, 68,\n",
    "#                69, 70, 74, 89, 88, 87, 86, 85, 84, 83,\n",
    "#                92, 102, 103, 104, 111, 122, 121, 120, 119, 118,\n",
    "#                117, 116, 115, 114]\n",
    "\n",
    "physical_circuits = transpile(logical_circs, optimization_level, backend, qubits_inds)"
   ]
  },
  {
   "cell_type": "markdown",
   "metadata": {},
   "source": [
    "# Circuit execution"
   ]
  },
  {
   "cell_type": "markdown",
   "metadata": {},
   "source": [
    "### Options"
   ]
  },
  {
   "cell_type": "code",
   "execution_count": 4,
   "metadata": {},
   "outputs": [],
   "source": [
    "from utils.hexec import execdb\n",
    "\n",
    "default_shots = 4096\n",
    "optimization_level = 0 # Deactivate error suppression\n",
    "resilience_level = 0 # Deactivate error mitigation\n",
    "execution_database = \"z2_chain_jobs.json\"\n",
    "zne_mitigation = \"none\"\n",
    "measure_mitigation = True\n",
    "\n",
    "zne_mitigation_dict = {\"none\": \"\",\n",
    "                       \"linear\": r\"linear\",\n",
    "                       \"quadratic\": r'polynomial_degree_2',\n",
    "                       \"exponential\": r\"exponential\"}\n",
    "\n",
    "estimator_options = {\n",
    "    \"default_shots\": default_shots,\n",
    "    \"optimization_level\": optimization_level,\n",
    "    \"resilience_level\": resilience_level,\n",
    "    \"resilience\": {\n",
    "        \"zne_mitigation\": bool(zne_mitigation_dict[zne_mitigation]),\n",
    "        \"measure_mitigation\": measure_mitigation\n",
    "    }\n",
    "}\n",
    "\n",
    "if bool(zne_mitigation_dict[zne_mitigation]):\n",
    "    estimator_options[\"resilience\"][\"zne\"] = {\"extrapolator\": zne_mitigation_dict[zne_mitigation]}\n",
    "\n",
    "job_db = execdb(execution_database)"
   ]
  },
  {
   "cell_type": "markdown",
   "metadata": {},
   "source": [
    "### Observables to measure"
   ]
  },
  {
   "cell_type": "code",
   "execution_count": 5,
   "metadata": {},
   "outputs": [],
   "source": [
    "from z2chain.qiskit_observables import local_pauli_z\n",
    "from functools import partial\n",
    "\n",
    "observable_name = \"Occupation numbers\"\n",
    "observable_generating_funcs = [partial(local_pauli_z, qubit_ind=i) for i in range(2*L-1)]"
   ]
  },
  {
   "cell_type": "markdown",
   "metadata": {},
   "source": [
    "### Send job to hardware"
   ]
  },
  {
   "cell_type": "code",
   "execution_count": 6,
   "metadata": {},
   "outputs": [],
   "source": [
    "jobs = job_db.execute_estimator_batch(backend, estimator_options, physical_circuits, observable_generating_funcs, observable_name)"
   ]
  },
  {
   "cell_type": "markdown",
   "metadata": {},
   "source": [
    "### Load last job with the same options"
   ]
  },
  {
   "cell_type": "code",
   "execution_count": null,
   "metadata": {},
   "outputs": [],
   "source": [
    "jobs = job_db.search_by_params(estimator_options, physical_circuits, observable_name, limit=1, ibmq_service=service)"
   ]
  },
  {
   "cell_type": "markdown",
   "metadata": {},
   "source": [
    "# Plots"
   ]
  },
  {
   "cell_type": "markdown",
   "metadata": {},
   "source": [
    "### Quech plot"
   ]
  },
  {
   "cell_type": "code",
   "execution_count": null,
   "metadata": {},
   "outputs": [],
   "source": [
    "from z2chain.plotting import x_t_plot\n",
    "\n",
    "x_t_plot(jobs)"
   ]
  },
  {
   "cell_type": "markdown",
   "metadata": {},
   "source": [
    "### Comparison with circuit tensor network simulation"
   ]
  },
  {
   "cell_type": "code",
   "execution_count": null,
   "metadata": {},
   "outputs": [],
   "source": [
    "from z2chain.plotting import save_site_gauge_observable_matrix, load_site_gauge_observable_matrix\n",
    "from utils.sexec import execute_simulation_estimator_batch\n",
    "import os\n",
    "\n",
    "estimator_options = {\n",
    "    \"default_precision\": 0\n",
    "}\n",
    "\n",
    "mps_simulator_options = {\n",
    "    \"method\": \"matrix_product_state\",\n",
    "    \"matrix_product_state_max_bond_dimension\": 256,\n",
    "    \"matrix_product_state_truncation_threshold\": 1e-8,\n",
    "    \"max_parallel_threads\": 8,\n",
    "    \"max_parallel_experiments\": 8\n",
    "}\n",
    "\n",
    "filepath = f\"Results/tncirc_z2pairquench_maxt_{final_time}_steps_{layers}_L_{L}_J_{J:.04f}_h_{h:.04f}_lamb_{lamb:.04f}_pp_{particle_pair_left_position}_pl_{particle_pair_length}_bd_{mps_simulator_options[\"matrix_product_state_max_bond_dimension\"]}_prec_{estimator_options['default_precision']}.txt\"\n",
    "\n",
    "if os.path.exists(filepath):\n",
    "    tn_site_gauge_observable_matrix = load_site_gauge_observable_matrix(filepath)\n",
    "else:\n",
    "    observables_generating_funcs = [partial(local_pauli_z, qubit_ind=i) for i in range(2*L-1)]\n",
    "    tn_site_gauge_observable_matrix = execute_simulation_estimator_batch(mps_simulator_options, estimator_options, logical_circs, observables_generating_funcs)\n",
    "    save_site_gauge_observable_matrix(tn_site_gauge_observable_matrix, filepath)"
   ]
  },
  {
   "cell_type": "code",
   "execution_count": null,
   "metadata": {},
   "outputs": [],
   "source": [
    "from z2chain.plotting import discrepancies_plot\n",
    "\n",
    "discrepancies_plot(tn_site_gauge_observable_matrix, jobs)"
   ]
  }
 ],
 "metadata": {
  "kernelspec": {
   "display_name": "qiskit",
   "language": "python",
   "name": "python3"
  },
  "language_info": {
   "codemirror_mode": {
    "name": "ipython",
    "version": 3
   },
   "file_extension": ".py",
   "mimetype": "text/x-python",
   "name": "python",
   "nbconvert_exporter": "python",
   "pygments_lexer": "ipython3",
   "version": "3.12.3"
  }
 },
 "nbformat": 4,
 "nbformat_minor": 2
}
