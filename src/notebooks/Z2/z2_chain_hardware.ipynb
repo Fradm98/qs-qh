{
 "cells": [
  {
   "cell_type": "markdown",
   "metadata": {},
   "source": [
    "# <span style=\"color:#338dff\">TO DO:</span> Everything"
   ]
  }
 ],
 "metadata": {
  "language_info": {
   "name": "python"
  }
 },
 "nbformat": 4,
 "nbformat_minor": 2
}
