{
 "cells": [
  {
   "cell_type": "markdown",
   "metadata": {},
   "source": [
    "# Logical circuits creation"
   ]
  },
  {
   "cell_type": "code",
   "execution_count": null,
   "metadata": {},
   "outputs": [],
   "source": [
    "L = 8\n",
    "J = 1\n",
    "h = 0.05\n",
    "lamb = 0.5\n",
    "\n",
    "particle_pair_left_position = 3\n",
    "particle_pair_length = 1\n",
    "\n",
    "final_time = 10\n",
    "layers = 100\n",
    "measure_every_layers = 1\n",
    "\n",
    "import z2chain.circs as circs\n",
    "\n",
    "logical_circs = circs.particle_pair_quench_simulation_circuits(L, J, h, lamb, particle_pair_left_position, particle_pair_length, final_time, layers, measure_every_layers)\n",
    "# logical_circs[1].draw(output=\"mpl\")"
   ]
  },
  {
   "cell_type": "markdown",
   "metadata": {},
   "source": [
    "# Device selection"
   ]
  },
  {
   "cell_type": "code",
   "execution_count": null,
   "metadata": {},
   "outputs": [],
   "source": [
    "from qiskit_ibm_runtime import QiskitRuntimeService\n",
    "from cobos.token import ibm_token\n",
    "\n",
    "channel = \"ibm_quantum\"\n",
    "device = \"ibm_kyiv\"\n",
    "\n",
    "service = QiskitRuntimeService(channel=channel, token=ibm_token)\n",
    "backend = service.get_backend(device)"
   ]
  },
  {
   "cell_type": "markdown",
   "metadata": {},
   "source": [
    "# Circuit transpilation"
   ]
  },
  {
   "cell_type": "code",
   "execution_count": null,
   "metadata": {},
   "outputs": [],
   "source": [
    "from qiskit.transpiler.preset_passmanagers import generate_preset_pass_manager\n",
    "\n",
    "optimization_level = 1\n",
    "qubit_inds = []"
   ]
  }
 ],
 "metadata": {
  "kernelspec": {
   "display_name": "qiskit",
   "language": "python",
   "name": "python3"
  },
  "language_info": {
   "codemirror_mode": {
    "name": "ipython",
    "version": 3
   },
   "file_extension": ".py",
   "mimetype": "text/x-python",
   "name": "python",
   "nbconvert_exporter": "python",
   "pygments_lexer": "ipython3",
   "version": "3.12.3"
  }
 },
 "nbformat": 4,
 "nbformat_minor": 2
}
