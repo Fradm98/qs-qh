{
 "cells": [
  {
   "cell_type": "markdown",
   "metadata": {},
   "source": [
    "# Logical circuits creation"
   ]
  },
  {
   "cell_type": "code",
   "execution_count": 4,
   "metadata": {},
   "outputs": [],
   "source": [
    "L = 8\n",
    "J = 1\n",
    "h = 0.05\n",
    "lamb = 0.5\n",
    "\n",
    "particle_pair_left_position = 3\n",
    "particle_pair_length = 1\n",
    "\n",
    "final_time = 5\n",
    "layers = 50\n",
    "measure_every_layers = 1\n",
    "\n",
    "import z2chain.circs as circs\n",
    "\n",
    "logical_circs = circs.particle_pair_quench_simulation_circuits(L, J, h, lamb, particle_pair_left_position, particle_pair_length, final_time, layers, measure_every_layers)\n",
    "# logical_circs[1].draw(output=\"mpl\")"
   ]
  },
  {
   "cell_type": "markdown",
   "metadata": {},
   "source": [
    "# Device selection"
   ]
  },
  {
   "cell_type": "code",
   "execution_count": 5,
   "metadata": {},
   "outputs": [],
   "source": [
    "from qiskit_ibm_runtime import QiskitRuntimeService\n",
    "from cobos.tokens import ibm_token\n",
    "\n",
    "channel = \"ibm_quantum\"\n",
    "instance = \"ibm-q-ikerbasque/upv-ehu/quantum-many-bod\"\n",
    "device = \"ibm_kyiv\"\n",
    "\n",
    "service = QiskitRuntimeService(channel=channel, token=ibm_token)\n",
    "backend = service.backend(device)"
   ]
  },
  {
   "cell_type": "markdown",
   "metadata": {},
   "source": [
    "# Circuit transpilation"
   ]
  },
  {
   "cell_type": "code",
   "execution_count": 6,
   "metadata": {},
   "outputs": [
    {
     "name": "stdout",
     "output_type": "stream",
     "text": [
      "Longest circuit contains 1400 CNOT gates\n"
     ]
    }
   ],
   "source": [
    "from utils.hexec import transpile\n",
    "\n",
    "optimization_level = 3\n",
    "\n",
    "# qubits_inds = None\n",
    "qubits_inds = [0, 1, 2, 3, 4, 5, 6, 7, 8, 16,\n",
    "               26, 25, 24, 34, 43]\n",
    "\n",
    "physical_circuits = transpile(logical_circs, optimization_level, backend, qubits_inds)\n",
    "print(f\"Longest circuit contains {physical_circuits[-1].num_nonlocal_gates()} CNOT gates\")"
   ]
  },
  {
   "cell_type": "markdown",
   "metadata": {},
   "source": [
    "# Circuit execution"
   ]
  },
  {
   "cell_type": "markdown",
   "metadata": {},
   "source": [
    "### Options"
   ]
  },
  {
   "cell_type": "code",
   "execution_count": 7,
   "metadata": {},
   "outputs": [],
   "source": [
    "from utils.hexec import execdb\n",
    "\n",
    "default_shots = 10000\n",
    "optimization_level = 0 # Deactivate error suppression\n",
    "resilience_level = 0 # Deactivate error mitigation\n",
    "execution_database = \"z2_chain_jobs.json\"\n",
    "zne_mitigation = \"linear\"\n",
    "measure_mitigation = True\n",
    "dynamical_decoupling = \"XpXm\"\n",
    "\n",
    "zne_mitigation_dict = {\"none\": \"\",\n",
    "                       \"linear\": r\"linear\",\n",
    "                       \"quadratic\": r'polynomial_degree_2',\n",
    "                       \"exponential\": r\"exponential\"}\n",
    "\n",
    "estimator_options = {\n",
    "    \"default_shots\": default_shots,\n",
    "    \"optimization_level\": optimization_level,\n",
    "    \"resilience_level\": resilience_level,\n",
    "    \"resilience\": {\n",
    "        \"zne_mitigation\": bool(zne_mitigation_dict[zne_mitigation]),\n",
    "        \"measure_mitigation\": measure_mitigation\n",
    "    },\n",
    "    \"dynamical_decoupling\": {\n",
    "        \"enable\": bool(dynamical_decoupling),\n",
    "        \"sequence_type\": dynamical_decoupling\n",
    "    }\n",
    "}\n",
    "\n",
    "if bool(zne_mitigation_dict[zne_mitigation]):\n",
    "    estimator_options[\"resilience\"][\"zne\"] = {\"extrapolator\": zne_mitigation_dict[zne_mitigation]}\n",
    "\n",
    "job_db = execdb(execution_database)"
   ]
  },
  {
   "cell_type": "markdown",
   "metadata": {},
   "source": [
    "### Observables to measure"
   ]
  },
  {
   "cell_type": "code",
   "execution_count": 8,
   "metadata": {},
   "outputs": [],
   "source": [
    "from z2chain.qiskit_observables import local_pauli_z\n",
    "from functools import partial\n",
    "\n",
    "observable_name = \"Occupation numbers\"\n",
    "observable_generating_funcs = [partial(local_pauli_z, qubit_ind=i) for i in range(2*L-1)]"
   ]
  },
  {
   "cell_type": "markdown",
   "metadata": {},
   "source": [
    "### Send job to hardware"
   ]
  },
  {
   "cell_type": "code",
   "execution_count": 9,
   "metadata": {},
   "outputs": [],
   "source": [
    "jobs = job_db.execute_estimator_batch(backend, estimator_options, physical_circuits, observable_generating_funcs, observable_name)"
   ]
  },
  {
   "cell_type": "markdown",
   "metadata": {},
   "source": [
    "### Load last job with the same options"
   ]
  },
  {
   "cell_type": "code",
   "execution_count": null,
   "metadata": {},
   "outputs": [],
   "source": [
    "jobs = job_db.search_by_params(estimator_options, physical_circuits, observable_name, strict_depth=False, limit=1, ibmq_service=service)"
   ]
  },
  {
   "cell_type": "markdown",
   "metadata": {},
   "source": [
    "# Plots"
   ]
  },
  {
   "cell_type": "markdown",
   "metadata": {},
   "source": [
    "### Quech plot"
   ]
  },
  {
   "cell_type": "code",
   "execution_count": null,
   "metadata": {},
   "outputs": [],
   "source": [
    "from z2chain.plotting import x_t_plot\n",
    "\n",
    "x_t_plot(jobs)"
   ]
  },
  {
   "cell_type": "markdown",
   "metadata": {},
   "source": [
    "### Comparison with circuit tensor network simulation"
   ]
  },
  {
   "cell_type": "code",
   "execution_count": 10,
   "metadata": {},
   "outputs": [
    {
     "data": {
      "image/png": "[encoded data removed]",
      "text/plain": [
       "<Figure size 1200x800 with 2 Axes>"
      ]
     },
     "metadata": {},
     "output_type": "display_data"
    }
   ],
   "source": [
    "from z2chain.plotting import x_t_plot, save_site_gauge_observable_matrix, load_site_gauge_observable_matrix\n",
    "from utils.sexec import execute_simulation_estimator_batch\n",
    "import os\n",
    "\n",
    "estimator_options = {\n",
    "    \"default_precision\": 0\n",
    "}\n",
    "\n",
    "mps_simulator_options = {\n",
    "    \"method\": \"matrix_product_state\",\n",
    "    \"matrix_product_state_max_bond_dimension\": 256,\n",
    "    \"matrix_product_state_truncation_threshold\": 1e-8,\n",
    "    \"max_parallel_threads\": 8,\n",
    "    \"max_parallel_experiments\": 8\n",
    "}\n",
    "\n",
    "filepath = f\"Results/tncirc_z2pairquench_maxt_{final_time}_steps_{layers}_L_{L}_J_{J:.04f}_h_{h:.04f}_lamb_{lamb:.04f}_pp_{particle_pair_left_position}_pl_{particle_pair_length}_bd_{mps_simulator_options[\"matrix_product_state_max_bond_dimension\"]}_prec_{estimator_options['default_precision']}.txt\"\n",
    "\n",
    "if os.path.exists(filepath):\n",
    "    tn_site_gauge_observable_matrix = load_site_gauge_observable_matrix(filepath)\n",
    "else:\n",
    "    observables_generating_funcs = [partial(local_pauli_z, qubit_ind=i) for i in range(2*L-1)]\n",
    "    tn_site_gauge_observable_matrix = execute_simulation_estimator_batch(mps_simulator_options, estimator_options, logical_circs, observables_generating_funcs)\n",
    "    save_site_gauge_observable_matrix(tn_site_gauge_observable_matrix, filepath)\n",
    "\n",
    "x_t_plot(tn_site_gauge_observable_matrix)"
   ]
  },
  {
   "cell_type": "code",
   "execution_count": 11,
   "metadata": {},
   "outputs": [
    {
     "ename": "TypeError",
     "evalue": "'NoneType' object is not subscriptable",
     "output_type": "error",
     "traceback": [
      "\u001b[0;31m---------------------------------------------------------------------------\u001b[0m",
      "\u001b[0;31mTypeError\u001b[0m                                 Traceback (most recent call last)",
      "Cell \u001b[0;32mIn[11], line 3\u001b[0m\n\u001b[1;32m      1\u001b[0m \u001b[38;5;28;01mfrom\u001b[39;00m \u001b[38;5;21;01mz2chain\u001b[39;00m\u001b[38;5;21;01m.\u001b[39;00m\u001b[38;5;21;01mplotting\u001b[39;00m \u001b[38;5;28;01mimport\u001b[39;00m discrepancies_plot\n\u001b[0;32m----> 3\u001b[0m discrepancies_plot(tn_site_gauge_observable_matrix, jobs)\n",
      "File \u001b[0;32m~/MEGAsync/Doctorado/2nd year/IBM hardware execution/Repo/src/z2chain/plotting.py:45\u001b[0m, in \u001b[0;36mdiscrepancies_plot\u001b[0;34m(exact_site_gauge_observable_matrix, approximated_site_gauge_observable_matrix, filepath)\u001b[0m\n\u001b[1;32m     43\u001b[0m \u001b[38;5;28;01mif\u001b[39;00m \u001b[38;5;28misinstance\u001b[39m(exact_site_gauge_observable_matrix[\u001b[38;5;241m0\u001b[39m], BasePrimitiveJob):\n\u001b[1;32m     44\u001b[0m     exact_site_gauge_observable_matrix \u001b[38;5;241m=\u001b[39m convert_jobs_to_site_gauge_matrix(exact_site_gauge_observable_matrix)\n\u001b[0;32m---> 45\u001b[0m \u001b[38;5;28;01mif\u001b[39;00m \u001b[38;5;28misinstance\u001b[39m(approximated_site_gauge_observable_matrix[\u001b[38;5;241m0\u001b[39m], BasePrimitiveJob):\n\u001b[1;32m     46\u001b[0m     approximated_site_gauge_observable_matrix \u001b[38;5;241m=\u001b[39m convert_jobs_to_site_gauge_matrix(approximated_site_gauge_observable_matrix)\n\u001b[1;32m     48\u001b[0m plt\u001b[38;5;241m.\u001b[39mrc(\u001b[38;5;124m\"\u001b[39m\u001b[38;5;124mtext\u001b[39m\u001b[38;5;124m\"\u001b[39m, usetex\u001b[38;5;241m=\u001b[39m\u001b[38;5;28;01mTrue\u001b[39;00m)\n",
      "\u001b[0;31mTypeError\u001b[0m: 'NoneType' object is not subscriptable"
     ]
    }
   ],
   "source": [
    "from z2chain.plotting import discrepancies_plot\n",
    "\n",
    "discrepancies_plot(tn_site_gauge_observable_matrix, jobs)"
   ]
  }
 ],
 "metadata": {
  "kernelspec": {
   "display_name": "qiskit",
   "language": "python",
   "name": "python3"
  },
  "language_info": {
   "codemirror_mode": {
    "name": "ipython",
    "version": 3
   },
   "file_extension": ".py",
   "mimetype": "text/x-python",
   "name": "python",
   "nbconvert_exporter": "python",
   "pygments_lexer": "ipython3",
   "version": "3.12.3"
  }
 },
 "nbformat": 4,
 "nbformat_minor": 2
}
