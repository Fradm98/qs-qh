{
 "cells": [
  {
   "cell_type": "code",
   "execution_count": 1,
   "metadata": {},
   "outputs": [],
   "source": [
    "%load_ext autoreload\n",
    "%autoreload 2"
   ]
  },
  {
   "cell_type": "code",
   "execution_count": 20,
   "metadata": {},
   "outputs": [],
   "source": [
    "from fradm.tn_test import *\n",
    "import matplotlib.pyplot as plt"
   ]
  },
  {
   "cell_type": "code",
   "execution_count": 21,
   "metadata": {},
   "outputs": [
    {
     "name": "stdout",
     "output_type": "stream",
     "text": [
      "Sweep n: 0\n",
      "\n",
      "Sweep n: 1\n",
      "\n",
      "##############################\n",
      "The energy between the two last updated states converged\n",
      "to an order of 1e-10 after:\n",
      "1 sweeps at site 2\n",
      "total iterations 13\n",
      "total time: 0.1002027639769949\n",
      "##############################\n",
      "(1, 2, 2)\n",
      "(2, 2, 4)\n",
      "(4, 2, 8)\n",
      "(8, 2, 8)\n",
      "(8, 2, 4)\n",
      "(4, 2, 2)\n",
      "(2, 2, 1)\n"
     ]
    }
   ],
   "source": [
    "L = 7\n",
    "chi = 8\n",
    "chain = Z2_chain_massive_mps(L=L, d=2, chi=chi, h1=0.1, h2=0.1)\n",
    "chain._random_state(seed=3, chi=chi)\n",
    "chain.canonical_form()\n",
    "chain.DMRG(trunc_tol=False, trunc_chi=True)\n",
    "# chain.DMRG(trunc_tol=True, trunc_chi=False)\n",
    "tensor_shapes(chain.sites)\n",
    "Z = np.array([[1,0],[0,-1]])\n",
    "Z = np.array([[1,0],[0,-1]])\n",
    "exp_vals = []\n",
    "for i in range(L):\n",
    "    chain.local_order_param(site=i)\n",
    "    occup = chain.mpo_first_moment().real\n",
    "    exp_vals.append(occup)"
   ]
  },
  {
   "cell_type": "code",
   "execution_count": 26,
   "metadata": {},
   "outputs": [],
   "source": [
    "occup_state = np.array([0,1]).reshape((1,2,1))\n",
    "vacuum_state = np.array([1,0]).reshape((1,2,1))\n",
    "vacuum_tensor = [vacuum_state for _ in range(L)]\n",
    "vacuum_tensor[L//2] = occup_state\n",
    "vacuum_tensor[L//2-1] = occup_state\n",
    "vacuum_tensor[L//2+1] = occup_state\n",
    "perturbed_tensor = vacuum_tensor"
   ]
  },
  {
   "cell_type": "code",
   "execution_count": 28,
   "metadata": {},
   "outputs": [
    {
     "name": "stdout",
     "output_type": "stream",
     "text": [
      "(1, 2, 8)\n",
      "(8, 2, 8)\n",
      "(8, 2, 8)\n",
      "(8, 2, 8)\n",
      "(8, 2, 8)\n",
      "(8, 2, 8)\n",
      "(8, 2, 1)\n"
     ]
    },
    {
     "data": {
      "text/plain": [
       "[(1, 2, 8), (8, 2, 8), (8, 2, 8), (8, 2, 8), (8, 2, 8), (8, 2, 8), (8, 2, 1)]"
      ]
     },
     "execution_count": 28,
     "metadata": {},
     "output_type": "execute_result"
    }
   ],
   "source": [
    "chain = Z2_chain_massive_mps(L=L, d=2, chi=chi, h1=0.1, h2=0.1)\n",
    "chain.sites = perturbed_tensor\n",
    "# chain.enlarge_chi()\n",
    "chain.TEBD_variational()"
   ]
  }
 ],
 "metadata": {
  "kernelspec": {
   "display_name": "qs_qh",
   "language": "python",
   "name": "python3"
  },
  "language_info": {
   "codemirror_mode": {
    "name": "ipython",
    "version": 3
   },
   "file_extension": ".py",
   "mimetype": "text/x-python",
   "name": "python",
   "nbconvert_exporter": "python",
   "pygments_lexer": "ipython3",
   "version": "3.12.3"
  }
 },
 "nbformat": 4,
 "nbformat_minor": 2
}
