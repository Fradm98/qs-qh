{
 "cells": [
  {
   "cell_type": "code",
   "execution_count": 1,
   "metadata": {},
   "outputs": [],
   "source": [
    "%load_ext autoreload\n",
    "%autoreload 2"
   ]
  },
  {
   "cell_type": "markdown",
   "metadata": {},
   "source": [
    "# Device selection"
   ]
  },
  {
   "cell_type": "code",
   "execution_count": 2,
   "metadata": {},
   "outputs": [],
   "source": [
    "from cobos.tokens import ibm_token, group_instance, group_instance2\n",
    "from qiskit_ibm_runtime import QiskitRuntimeService\n",
    "\n",
    "channel = \"ibm_quantum\"\n",
    "# device = \"ibm_kyiv\"\n",
    "# device = \"ibm_brisbane\"\n",
    "device = \"ibm_fez\"\n",
    "# device = \"ibm_sherbrooke\"\n",
    "# device = \"ibm_torino\"\n",
    "\n",
    "first_layout_qubit = 83\n",
    "eplg_absolute = 1.63e-3\n",
    "\n",
    "service = QiskitRuntimeService(channel=channel, token=ibm_token, instance=group_instance2)\n",
    "backend = service.backend(device)"
   ]
  },
  {
   "cell_type": "markdown",
   "metadata": {},
   "source": [
    "# Auxiliary lattice plot"
   ]
  },
  {
   "cell_type": "code",
   "execution_count": 3,
   "metadata": {},
   "outputs": [
    {
     "data": {
      "image/png": "[encoded data removed]",
      "text/plain": [
       "<Figure size 750x300 with 1 Axes>"
      ]
     },
     "metadata": {},
     "output_type": "display_data"
    }
   ],
   "source": [
    "from z2hex.geometry import HeavyHexLattice\n",
    "\n",
    "plaquette_width = 2\n",
    "plaquette_height = 2\n",
    "\n",
    "HeavyHexLattice(plaquette_width, plaquette_height).plot_lattice(number_qubits=True)"
   ]
  },
  {
   "cell_type": "markdown",
   "metadata": {},
   "source": [
    "# Simulation settings"
   ]
  },
  {
   "cell_type": "code",
   "execution_count": 4,
   "metadata": {},
   "outputs": [],
   "source": [
    "from utils.hexec import create_estimator_options\n",
    "from utils.hexec import ExecDB\n",
    "\n",
    "lattice_dims_arr = [(2, 2)]\n",
    "J_arr = [1]\n",
    "h_arr = [0.8]\n",
    "lamb_arr = [0.3]\n",
    "g_arr = [8]\n",
    "\n",
    "x_basis = False\n",
    "\n",
    "# strings_arr = [[6, 7, 8, 16, 26, 25, 24, 34, 43, 44, 45, 54, 64, 63, 62, 72, 81, 82, 83, 92, 102, 101, 100]]\n",
    "strings_arr = [[4, 10, 18, 17, 16, 24, 30]]\n",
    "\n",
    "final_time = 5\n",
    "steps = 35\n",
    "\n",
    "shots = [75000]\n",
    "\n",
    "execution_database = \"z2_hex_jobs_postselection.json\"\n",
    "jobs_result_folder = execution_database.split(\".\")[0] + \"/\"\n",
    "job_db = ExecDB(execution_database)\n",
    "\n",
    "circ_folder_path = \"Circuits/\""
   ]
  },
  {
   "cell_type": "markdown",
   "metadata": {},
   "source": [
    "# Circuit generation & observables"
   ]
  },
  {
   "cell_type": "code",
   "execution_count": 5,
   "metadata": {},
   "outputs": [],
   "source": [
    "from z2hex.operators import local_pauli_x, local_pauli_z, postselection_operators\n",
    "from z2hex.circs import get_erradj_string_quench_simulation_circuits\n",
    "from utils.circs import generate_and_save_circs\n",
    "from z2hex.geometry import HeavyHexLattice\n",
    "from functools import partial\n",
    "from itertools import product\n",
    "import os\n",
    "\n",
    "optimization_level = 3\n",
    "\n",
    "circuits = [] # circuits[dims][Jhλg][t]\n",
    "observable_generating_funcs = [] # observable_generating_funcs[dims][i]\n",
    "postselection_operators_funcs = [] # postselection_operators_funcs[dims][i]\n",
    "extra_options = [] # extra_options[dims][Jhλg]\n",
    "\n",
    "sampler_options = [{\n",
    "    \"default_shots\": nshots,\n",
    "    \"execution\": {\n",
    "        \"init_qubits\": True,\n",
    "        \"meas_type\": \"classified\"\n",
    "    },\n",
    "    \"dynamical_decoupling\": {\n",
    "        \"enable\": True,\n",
    "        \"sequence_type\": \"XY4\"\n",
    "    },\n",
    "    \"twirling\": {\n",
    "        \"enable_gates\": True,\n",
    "        \"enable_measure\": True,\n",
    "        \"num_randomizations\": \"auto\",\n",
    "        \"shots_per_randomization\": \"auto\"\n",
    "    }\n",
    "} for nshots in shots]\n",
    "\n",
    "for (px, py), string_arr in zip(lattice_dims_arr, strings_arr):\n",
    "    this_circuits = []\n",
    "    this_extra_options = []\n",
    "    lattice = HeavyHexLattice(px, py)\n",
    "    for J, h, lamb, g in product(J_arr, h_arr, lamb_arr, g_arr):\n",
    "        circuits_filepath = os.path.join(circ_folder_path, f\"z2hex_string_quench_circs_{device}_px_{px}_py_{py}_maxt_{final_time}_steps_{steps}_J_{J:.04f}_h_{h:.04f}_lamb_{lamb:.04f}_g_{g}_fqb_{first_layout_qubit}_string_{\"-\".join([str(i) for i in string_arr])}_xbasis_{x_basis}.qpy\")\n",
    "        circs_args = (lattice, J, h, lamb, string_arr, final_time, steps, backend, optimization_level, eplg_absolute, g, first_layout_qubit, x_basis, False)\n",
    "        physical_circuits = generate_and_save_circs(circuits_filepath, get_erradj_string_quench_simulation_circuits, *circs_args)\n",
    "        this_circuits.append(physical_circuits)\n",
    "        this_extra_options.append({\"backend\": device, \"plaquette_width\": px, \"plaquette_height\": py, \"J\": J, \"h\": h, \"λ\":lamb, \"g\": g, \"string_arr\": string_arr, \"final_time\": final_time, \"eplg\": eplg_absolute})\n",
    "    circuits.append(this_circuits)\n",
    "    observable_generating_funcs.append([(lambda nqubits, i=i: local_pauli_x(lattice, i) if x_basis else local_pauli_z(lattice, i)) for i in range(len(lattice))])\n",
    "    postselection_operators_funcs.append(lambda nqubits: postselection_operators(lattice, x_basis))\n",
    "    extra_options.append(this_extra_options)\n",
    "\n",
    "# circuits[0][0][1].draw(output=\"mpl\", idle_wires=False)"
   ]
  },
  {
   "cell_type": "markdown",
   "metadata": {},
   "source": [
    "# Post-selected circuit execution"
   ]
  },
  {
   "cell_type": "markdown",
   "metadata": {},
   "source": [
    "### Send jobs to hardware"
   ]
  },
  {
   "cell_type": "code",
   "execution_count": 6,
   "metadata": {},
   "outputs": [],
   "source": [
    "from utils.postselection import execute_postselected_sampler_batch\n",
    "from itertools import product\n",
    "\n",
    "jobs = [] # jobs[dims][Jhλg][t]\n",
    "\n",
    "for i, (px, py) in enumerate(lattice_dims_arr):\n",
    "    this_dims_jobs = []\n",
    "    for Ji, hi, lambi, gi in product(range(len(J_arr)), range(len(h_arr)), range(len(lamb_arr)), range(len(g_arr))):\n",
    "        params_ind = gi + lambi*len(g_arr) + hi*len(g_arr)*len(lamb_arr) + Ji*len(g_arr)*len(lamb_arr)*len(h_arr)\n",
    "        this_jobs = execute_postselected_sampler_batch(backend, sampler_options[i], circuits[i][params_ind], postselection_operators_funcs[i], observable_generating_funcs[i], extra_options=extra_options[i][params_ind], job_db=job_db)\n",
    "        this_dims_jobs.append(this_jobs)\n",
    "    jobs.append(this_dims_jobs)"
   ]
  },
  {
   "cell_type": "markdown",
   "metadata": {},
   "source": [
    "### Load jobs with the same options"
   ]
  },
  {
   "cell_type": "code",
   "execution_count": 6,
   "metadata": {},
   "outputs": [],
   "source": [
    "from utils.postselection import load_postselected_jobs\n",
    "from itertools import product\n",
    "\n",
    "jobs = [] # jobs[dims][Jhλg][t]\n",
    "samples_dicts = [] # samples_dicts[dims][Jhλg][t]\n",
    "postselected_samples_dicts = [] # postselected_samples_dicts[dims][Jhλg][t]\n",
    "\n",
    "for i, (px, py) in enumerate(lattice_dims_arr):\n",
    "    this_dims_jobs = []\n",
    "    this_dims_samples_dicts = []\n",
    "    this_dims_postselected_samples_dicts = []\n",
    "    for j, (Ji, hi, lambi, gi) in enumerate(product(range(len(J_arr)), range(len(h_arr)), range(len(lamb_arr)), range(len(g_arr)))):\n",
    "        clean_extra_options = extra_options[i][j].copy()\n",
    "        del clean_extra_options[\"eplg\"]\n",
    "        this_jobs, this_samples_dicts, this_postselected_samples_dicts = load_postselected_jobs(job_db, service, sampler_options[i], circuits[i][j], postselection_operators_funcs[i], observable_generating_funcs[i], clean_extra_options, jobs_result_folder=jobs_result_folder, return_samples_dicts=True, return_postselected_samples_dicts=True)\n",
    "        this_dims_jobs.append(this_jobs)\n",
    "        this_dims_samples_dicts.append(this_samples_dicts)\n",
    "        this_dims_postselected_samples_dicts.append(this_samples_dicts)\n",
    "    jobs.append(this_dims_jobs)\n",
    "    samples_dicts.append(this_dims_samples_dicts)\n",
    "    postselected_samples_dicts.append(this_dims_postselected_samples_dicts)"
   ]
  },
  {
   "cell_type": "markdown",
   "metadata": {},
   "source": [
    "# Plots"
   ]
  },
  {
   "cell_type": "code",
   "execution_count": 7,
   "metadata": {},
   "outputs": [
    {
     "ename": "TypeError",
     "evalue": "unsupported operand type(s) for -: 'int' and 'list'",
     "output_type": "error",
     "traceback": [
      "\u001b[0;31m---------------------------------------------------------------------------\u001b[0m",
      "\u001b[0;31mTypeError\u001b[0m                                 Traceback (most recent call last)",
      "Cell \u001b[0;32mIn[7], line 9\u001b[0m\n\u001b[1;32m      7\u001b[0m \u001b[38;5;28;01mfor\u001b[39;00m i, (px, py) \u001b[38;5;129;01min\u001b[39;00m \u001b[38;5;28menumerate\u001b[39m(lattice_dims_arr):\n\u001b[1;32m      8\u001b[0m     \u001b[38;5;28;01mfor\u001b[39;00m j, (Ji, Hi, lambi, gi) \u001b[38;5;129;01min\u001b[39;00m \u001b[38;5;28menumerate\u001b[39m(product(\u001b[38;5;28mrange\u001b[39m(\u001b[38;5;28mlen\u001b[39m(J_arr)), \u001b[38;5;28mrange\u001b[39m(\u001b[38;5;28mlen\u001b[39m(h_arr)), \u001b[38;5;28mrange\u001b[39m(\u001b[38;5;28mlen\u001b[39m(lamb_arr)), \u001b[38;5;28mrange\u001b[39m(\u001b[38;5;28mlen\u001b[39m(g_arr)))):\n\u001b[0;32m----> 9\u001b[0m         this_occupations \u001b[38;5;241m=\u001b[39m (\u001b[38;5;241m1\u001b[39m \u001b[38;5;241m-\u001b[39m jobs[i][j])\u001b[38;5;241m/\u001b[39m\u001b[38;5;241m2\u001b[39m\n\u001b[1;32m     10\u001b[0m         local_obs_anim(this_occupations, lattice, frame_to_title_func, interpolation_frames\u001b[38;5;241m=\u001b[39minterpolation_frames, fps\u001b[38;5;241m=\u001b[39mfps, filepath\u001b[38;5;241m=\u001b[39m\u001b[38;5;124mf\u001b[39m\u001b[38;5;124m\"\u001b[39m\u001b[38;5;124mz2hex_string_quench_\u001b[39m\u001b[38;5;132;01m{\u001b[39;00mdevice\u001b[38;5;132;01m}\u001b[39;00m\u001b[38;5;124m_postselection_maxt_\u001b[39m\u001b[38;5;132;01m{\u001b[39;00mfinal_time\u001b[38;5;132;01m:\u001b[39;00m\u001b[38;5;124m.02f\u001b[39m\u001b[38;5;132;01m}\u001b[39;00m\u001b[38;5;124m_steps_\u001b[39m\u001b[38;5;132;01m{\u001b[39;00msteps\u001b[38;5;132;01m}\u001b[39;00m\u001b[38;5;124m_J_\u001b[39m\u001b[38;5;132;01m{\u001b[39;00mJ\u001b[38;5;132;01m:\u001b[39;00m\u001b[38;5;124m.04f\u001b[39m\u001b[38;5;132;01m}\u001b[39;00m\u001b[38;5;124m_h_\u001b[39m\u001b[38;5;132;01m{\u001b[39;00mh\u001b[38;5;132;01m:\u001b[39;00m\u001b[38;5;124m.04f\u001b[39m\u001b[38;5;132;01m}\u001b[39;00m\u001b[38;5;124m_lamb_\u001b[39m\u001b[38;5;132;01m{\u001b[39;00mlamb\u001b[38;5;132;01m:\u001b[39;00m\u001b[38;5;124m.04f\u001b[39m\u001b[38;5;132;01m}\u001b[39;00m\u001b[38;5;124m_g_\u001b[39m\u001b[38;5;132;01m{\u001b[39;00mg\u001b[38;5;132;01m}\u001b[39;00m\u001b[38;5;124m_fqb_\u001b[39m\u001b[38;5;132;01m{\u001b[39;00mfirst_layout_qubit\u001b[38;5;132;01m}\u001b[39;00m\u001b[38;5;124m_string_\u001b[39m\u001b[38;5;132;01m{\u001b[39;00m\u001b[38;5;124m\"\u001b[39m\u001b[38;5;124m-\u001b[39m\u001b[38;5;124m\"\u001b[39m\u001b[38;5;241m.\u001b[39mjoin([\u001b[38;5;28mstr\u001b[39m(i)\u001b[38;5;250m \u001b[39m\u001b[38;5;28;01mfor\u001b[39;00m\u001b[38;5;250m \u001b[39mi\u001b[38;5;250m \u001b[39m\u001b[38;5;129;01min\u001b[39;00m\u001b[38;5;250m \u001b[39mstring_arr])\u001b[38;5;132;01m}\u001b[39;00m\u001b[38;5;124m_xbasis_\u001b[39m\u001b[38;5;132;01m{\u001b[39;00mx_basis\u001b[38;5;132;01m}\u001b[39;00m\u001b[38;5;124m.mp4\u001b[39m\u001b[38;5;124m\"\u001b[39m)\n",
      "\u001b[0;31mTypeError\u001b[0m: unsupported operand type(s) for -: 'int' and 'list'"
     ]
    }
   ],
   "source": [
    "from z2hex.plotting import local_obs_anim\n",
    "\n",
    "interpolation_frames = 17\n",
    "fps = 30\n",
    "frame_to_title_func = lambda frame: f\"$t = {final_time * frame / ((interpolation_frames+1)*steps):.02f}$\"\n",
    "\n",
    "for i, (px, py) in enumerate(lattice_dims_arr):\n",
    "    for j, (Ji, Hi, lambi, gi) in enumerate(product(range(len(J_arr)), range(len(h_arr)), range(len(lamb_arr)), range(len(g_arr)))):\n",
    "        this_occupations = (1 - jobs[i][j])/2\n",
    "        local_obs_anim(this_occupations, lattice, frame_to_title_func, interpolation_frames=interpolation_frames, fps=fps, filepath=f\"z2hex_string_quench_{device}_postselection_maxt_{final_time:.02f}_steps_{steps}_J_{J:.04f}_h_{h:.04f}_lamb_{lamb:.04f}_g_{g}_fqb_{first_layout_qubit}_string_{\"-\".join([str(i) for i in string_arr])}_xbasis_{x_basis}.mp4\")"
   ]
  },
  {
   "cell_type": "code",
   "execution_count": 10,
   "metadata": {},
   "outputs": [
    {
     "data": {
      "text/plain": [
       "array([ 0.1106 , -0.3316 ,  0.10204, -0.28148,  0.03756, -0.2614 ,\n",
       "        0.0802 , -0.27248, -0.05052, -0.39548,  0.09584, -0.2402 ,\n",
       "        0.09664, -0.25468,  0.2522 , -0.37328, -0.39188,  0.03128,\n",
       "       -0.12988, -0.03244, -0.37428, -0.05984, -0.32552,  0.0308 ,\n",
       "        0.051  ,  0.02948, -0.3496 , -0.04784, -0.34096, -0.0534 ,\n",
       "       -0.3794 ,  0.15936, -0.1906 , -0.33164,  0.13792, -0.3684 ,\n",
       "        0.07656, -0.34324, -0.0462 , -0.3566 , -0.04696, -0.29632,\n",
       "        0.05836,  0.01604,  0.04444, -0.3812 , -0.059  , -0.35364,\n",
       "       -0.05468, -0.40024,  0.16464, -0.34444,  0.13136, -0.37456,\n",
       "       -0.38976,  0.1184 , -0.33636, -0.03812, -0.2318 ,  0.02556,\n",
       "        0.1182 ,  0.02204, -0.3284 , -0.04304, -0.3778 , -0.05584,\n",
       "       -0.39596, -0.04648, -0.32528,  0.14096, -0.33004,  0.05092,\n",
       "       -0.25516, -0.36868,  0.12568, -0.37084,  0.11892, -0.28704,\n",
       "        0.01088,  0.24532, -0.09756, -0.30608, -0.0248 , -0.32316,\n",
       "        0.12884, -0.38   ,  0.15068])"
      ]
     },
     "execution_count": 10,
     "metadata": {},
     "output_type": "execute_result"
    }
   ],
   "source": [
    "jobs[0][0][0]"
   ]
  },
  {
   "cell_type": "code",
   "execution_count": 8,
   "metadata": {},
   "outputs": [
    {
     "ename": "ValueError",
     "evalue": "'c' argument has 87 elements, which is inconsistent with 'x' and 'y' with size 1.",
     "output_type": "error",
     "traceback": [
      "\u001b[0;31m---------------------------------------------------------------------------\u001b[0m",
      "\u001b[0;31mValueError\u001b[0m                                Traceback (most recent call last)",
      "Cell \u001b[0;32mIn[8], line 3\u001b[0m\n\u001b[1;32m      1\u001b[0m \u001b[38;5;28;01mfrom\u001b[39;00m \u001b[38;5;21;01mz2hex\u001b[39;00m\u001b[38;5;21;01m.\u001b[39;00m\u001b[38;5;21;01mplotting\u001b[39;00m \u001b[38;5;28;01mimport\u001b[39;00m local_observable_plot\n\u001b[0;32m----> 3\u001b[0m local_observable_plot(jobs[\u001b[38;5;241m0\u001b[39m][\u001b[38;5;241m0\u001b[39m], lattice)\n",
      "File \u001b[0;32m~/MEGAsync/Doctorado/2nd year/IBM hardware execution/Repo/src/z2hex/plotting.py:55\u001b[0m, in \u001b[0;36mlocal_observable_plot\u001b[0;34m(site_gauge_matrix_observable_arr, lattice, title, scale, dark_theme, filepath)\u001b[0m\n\u001b[1;32m     53\u001b[0m vertex_x, vertex_y \u001b[38;5;241m=\u001b[39m x, lattice\u001b[38;5;241m.\u001b[39mmax_y \u001b[38;5;241m-\u001b[39m y\n\u001b[1;32m     54\u001b[0m this_node_color \u001b[38;5;241m=\u001b[39m scalar_mappable\u001b[38;5;241m.\u001b[39mto_rgba(this_norm_data \u001b[38;5;241m:=\u001b[39m site_gauge_matrix_observable_arr[i]\u001b[38;5;241m/\u001b[39mdata_cmap_norm)\n\u001b[0;32m---> 55\u001b[0m plt\u001b[38;5;241m.\u001b[39mscatter(vertex_x, vertex_y, \u001b[38;5;241m350\u001b[39m\u001b[38;5;241m*\u001b[39mscale, marker\u001b[38;5;241m=\u001b[39m\u001b[38;5;124m\"\u001b[39m\u001b[38;5;124mo\u001b[39m\u001b[38;5;124m\"\u001b[39m, color\u001b[38;5;241m=\u001b[39mthis_node_color, edgecolors\u001b[38;5;241m=\u001b[39m\u001b[38;5;124m\"\u001b[39m\u001b[38;5;124mblack\u001b[39m\u001b[38;5;124m\"\u001b[39m, zorder\u001b[38;5;241m=\u001b[39m\u001b[38;5;241m3\u001b[39m)\n\u001b[1;32m     56\u001b[0m text_color \u001b[38;5;241m=\u001b[39m \u001b[38;5;124m\"\u001b[39m\u001b[38;5;124mblack\u001b[39m\u001b[38;5;124m\"\u001b[39m \u001b[38;5;28;01mif\u001b[39;00m this_norm_data \u001b[38;5;241m>\u001b[39m \u001b[38;5;241m0.5\u001b[39m \u001b[38;5;28;01melse\u001b[39;00m \u001b[38;5;124m\"\u001b[39m\u001b[38;5;124mwhite\u001b[39m\u001b[38;5;124m\"\u001b[39m\n\u001b[1;32m     57\u001b[0m text \u001b[38;5;241m=\u001b[39m plt\u001b[38;5;241m.\u001b[39mtext(vertex_x, vertex_y, \u001b[38;5;124mf\u001b[39m\u001b[38;5;124m\"\u001b[39m\u001b[38;5;132;01m{\u001b[39;00msite_gauge_matrix_observable_arr[i]\u001b[38;5;132;01m:\u001b[39;00m\u001b[38;5;124m.02f\u001b[39m\u001b[38;5;132;01m}\u001b[39;00m\u001b[38;5;124m\"\u001b[39m, c\u001b[38;5;241m=\u001b[39mtext_color, horizontalalignment\u001b[38;5;241m=\u001b[39m\u001b[38;5;124m\"\u001b[39m\u001b[38;5;124mcenter\u001b[39m\u001b[38;5;124m\"\u001b[39m, verticalalignment\u001b[38;5;241m=\u001b[39m\u001b[38;5;124m\"\u001b[39m\u001b[38;5;124mcenter\u001b[39m\u001b[38;5;124m\"\u001b[39m, fontdict\u001b[38;5;241m=\u001b[39m{\u001b[38;5;124m\"\u001b[39m\u001b[38;5;124msize\u001b[39m\u001b[38;5;124m\"\u001b[39m: \u001b[38;5;241m4.5\u001b[39m\u001b[38;5;241m*\u001b[39mscale, \u001b[38;5;124m\"\u001b[39m\u001b[38;5;124mfamily\u001b[39m\u001b[38;5;124m\"\u001b[39m:\u001b[38;5;124m\"\u001b[39m\u001b[38;5;124mserif\u001b[39m\u001b[38;5;124m\"\u001b[39m})\n",
      "File \u001b[0;32m/opt/homebrew/Caskroom/miniconda/base/envs/qiskit/lib/python3.12/site-packages/matplotlib/pyplot.py:3699\u001b[0m, in \u001b[0;36mscatter\u001b[0;34m(x, y, s, c, marker, cmap, norm, vmin, vmax, alpha, linewidths, edgecolors, plotnonfinite, data, **kwargs)\u001b[0m\n\u001b[1;32m   3680\u001b[0m \u001b[38;5;129m@_copy_docstring_and_deprecators\u001b[39m(Axes\u001b[38;5;241m.\u001b[39mscatter)\n\u001b[1;32m   3681\u001b[0m \u001b[38;5;28;01mdef\u001b[39;00m \u001b[38;5;21mscatter\u001b[39m(\n\u001b[1;32m   3682\u001b[0m     x: \u001b[38;5;28mfloat\u001b[39m \u001b[38;5;241m|\u001b[39m ArrayLike,\n\u001b[0;32m   (...)\u001b[0m\n\u001b[1;32m   3697\u001b[0m     \u001b[38;5;241m*\u001b[39m\u001b[38;5;241m*\u001b[39mkwargs,\n\u001b[1;32m   3698\u001b[0m ) \u001b[38;5;241m-\u001b[39m\u001b[38;5;241m>\u001b[39m PathCollection:\n\u001b[0;32m-> 3699\u001b[0m     __ret \u001b[38;5;241m=\u001b[39m gca()\u001b[38;5;241m.\u001b[39mscatter(\n\u001b[1;32m   3700\u001b[0m         x,\n\u001b[1;32m   3701\u001b[0m         y,\n\u001b[1;32m   3702\u001b[0m         s\u001b[38;5;241m=\u001b[39ms,\n\u001b[1;32m   3703\u001b[0m         c\u001b[38;5;241m=\u001b[39mc,\n\u001b[1;32m   3704\u001b[0m         marker\u001b[38;5;241m=\u001b[39mmarker,\n\u001b[1;32m   3705\u001b[0m         cmap\u001b[38;5;241m=\u001b[39mcmap,\n\u001b[1;32m   3706\u001b[0m         norm\u001b[38;5;241m=\u001b[39mnorm,\n\u001b[1;32m   3707\u001b[0m         vmin\u001b[38;5;241m=\u001b[39mvmin,\n\u001b[1;32m   3708\u001b[0m         vmax\u001b[38;5;241m=\u001b[39mvmax,\n\u001b[1;32m   3709\u001b[0m         alpha\u001b[38;5;241m=\u001b[39malpha,\n\u001b[1;32m   3710\u001b[0m         linewidths\u001b[38;5;241m=\u001b[39mlinewidths,\n\u001b[1;32m   3711\u001b[0m         edgecolors\u001b[38;5;241m=\u001b[39medgecolors,\n\u001b[1;32m   3712\u001b[0m         plotnonfinite\u001b[38;5;241m=\u001b[39mplotnonfinite,\n\u001b[1;32m   3713\u001b[0m         \u001b[38;5;241m*\u001b[39m\u001b[38;5;241m*\u001b[39m({\u001b[38;5;124m\"\u001b[39m\u001b[38;5;124mdata\u001b[39m\u001b[38;5;124m\"\u001b[39m: data} \u001b[38;5;28;01mif\u001b[39;00m data \u001b[38;5;129;01mis\u001b[39;00m \u001b[38;5;129;01mnot\u001b[39;00m \u001b[38;5;28;01mNone\u001b[39;00m \u001b[38;5;28;01melse\u001b[39;00m {}),\n\u001b[1;32m   3714\u001b[0m         \u001b[38;5;241m*\u001b[39m\u001b[38;5;241m*\u001b[39mkwargs,\n\u001b[1;32m   3715\u001b[0m     )\n\u001b[1;32m   3716\u001b[0m     sci(__ret)\n\u001b[1;32m   3717\u001b[0m     \u001b[38;5;28;01mreturn\u001b[39;00m __ret\n",
      "File \u001b[0;32m/opt/homebrew/Caskroom/miniconda/base/envs/qiskit/lib/python3.12/site-packages/matplotlib/__init__.py:1465\u001b[0m, in \u001b[0;36m_preprocess_data.<locals>.inner\u001b[0;34m(ax, data, *args, **kwargs)\u001b[0m\n\u001b[1;32m   1462\u001b[0m \u001b[38;5;129m@functools\u001b[39m\u001b[38;5;241m.\u001b[39mwraps(func)\n\u001b[1;32m   1463\u001b[0m \u001b[38;5;28;01mdef\u001b[39;00m \u001b[38;5;21minner\u001b[39m(ax, \u001b[38;5;241m*\u001b[39margs, data\u001b[38;5;241m=\u001b[39m\u001b[38;5;28;01mNone\u001b[39;00m, \u001b[38;5;241m*\u001b[39m\u001b[38;5;241m*\u001b[39mkwargs):\n\u001b[1;32m   1464\u001b[0m     \u001b[38;5;28;01mif\u001b[39;00m data \u001b[38;5;129;01mis\u001b[39;00m \u001b[38;5;28;01mNone\u001b[39;00m:\n\u001b[0;32m-> 1465\u001b[0m         \u001b[38;5;28;01mreturn\u001b[39;00m func(ax, \u001b[38;5;241m*\u001b[39m\u001b[38;5;28mmap\u001b[39m(sanitize_sequence, args), \u001b[38;5;241m*\u001b[39m\u001b[38;5;241m*\u001b[39mkwargs)\n\u001b[1;32m   1467\u001b[0m     bound \u001b[38;5;241m=\u001b[39m new_sig\u001b[38;5;241m.\u001b[39mbind(ax, \u001b[38;5;241m*\u001b[39margs, \u001b[38;5;241m*\u001b[39m\u001b[38;5;241m*\u001b[39mkwargs)\n\u001b[1;32m   1468\u001b[0m     auto_label \u001b[38;5;241m=\u001b[39m (bound\u001b[38;5;241m.\u001b[39marguments\u001b[38;5;241m.\u001b[39mget(label_namer)\n\u001b[1;32m   1469\u001b[0m                   \u001b[38;5;129;01mor\u001b[39;00m bound\u001b[38;5;241m.\u001b[39mkwargs\u001b[38;5;241m.\u001b[39mget(label_namer))\n",
      "File \u001b[0;32m/opt/homebrew/Caskroom/miniconda/base/envs/qiskit/lib/python3.12/site-packages/matplotlib/axes/_axes.py:4673\u001b[0m, in \u001b[0;36mAxes.scatter\u001b[0;34m(self, x, y, s, c, marker, cmap, norm, vmin, vmax, alpha, linewidths, edgecolors, plotnonfinite, **kwargs)\u001b[0m\n\u001b[1;32m   4670\u001b[0m \u001b[38;5;28;01mif\u001b[39;00m edgecolors \u001b[38;5;129;01mis\u001b[39;00m \u001b[38;5;28;01mNone\u001b[39;00m:\n\u001b[1;32m   4671\u001b[0m     orig_edgecolor \u001b[38;5;241m=\u001b[39m kwargs\u001b[38;5;241m.\u001b[39mget(\u001b[38;5;124m'\u001b[39m\u001b[38;5;124medgecolor\u001b[39m\u001b[38;5;124m'\u001b[39m, \u001b[38;5;28;01mNone\u001b[39;00m)\n\u001b[1;32m   4672\u001b[0m c, colors, edgecolors \u001b[38;5;241m=\u001b[39m \\\n\u001b[0;32m-> 4673\u001b[0m     \u001b[38;5;28mself\u001b[39m\u001b[38;5;241m.\u001b[39m_parse_scatter_color_args(\n\u001b[1;32m   4674\u001b[0m         c, edgecolors, kwargs, x\u001b[38;5;241m.\u001b[39msize,\n\u001b[1;32m   4675\u001b[0m         get_next_color_func\u001b[38;5;241m=\u001b[39m\u001b[38;5;28mself\u001b[39m\u001b[38;5;241m.\u001b[39m_get_patches_for_fill\u001b[38;5;241m.\u001b[39mget_next_color)\n\u001b[1;32m   4677\u001b[0m \u001b[38;5;28;01mif\u001b[39;00m plotnonfinite \u001b[38;5;129;01mand\u001b[39;00m colors \u001b[38;5;129;01mis\u001b[39;00m \u001b[38;5;28;01mNone\u001b[39;00m:\n\u001b[1;32m   4678\u001b[0m     c \u001b[38;5;241m=\u001b[39m np\u001b[38;5;241m.\u001b[39mma\u001b[38;5;241m.\u001b[39mmasked_invalid(c)\n",
      "File \u001b[0;32m/opt/homebrew/Caskroom/miniconda/base/envs/qiskit/lib/python3.12/site-packages/matplotlib/axes/_axes.py:4502\u001b[0m, in \u001b[0;36mAxes._parse_scatter_color_args\u001b[0;34m(c, edgecolors, kwargs, xsize, get_next_color_func)\u001b[0m\n\u001b[1;32m   4498\u001b[0m     \u001b[38;5;28;01melse\u001b[39;00m:\n\u001b[1;32m   4499\u001b[0m         \u001b[38;5;28;01mif\u001b[39;00m \u001b[38;5;28mlen\u001b[39m(colors) \u001b[38;5;129;01mnot\u001b[39;00m \u001b[38;5;129;01min\u001b[39;00m (\u001b[38;5;241m0\u001b[39m, \u001b[38;5;241m1\u001b[39m, xsize):\n\u001b[1;32m   4500\u001b[0m             \u001b[38;5;66;03m# NB: remember that a single color is also acceptable.\u001b[39;00m\n\u001b[1;32m   4501\u001b[0m             \u001b[38;5;66;03m# Besides *colors* will be an empty array if c == 'none'.\u001b[39;00m\n\u001b[0;32m-> 4502\u001b[0m             \u001b[38;5;28;01mraise\u001b[39;00m invalid_shape_exception(\u001b[38;5;28mlen\u001b[39m(colors), xsize)\n\u001b[1;32m   4503\u001b[0m \u001b[38;5;28;01melse\u001b[39;00m:\n\u001b[1;32m   4504\u001b[0m     colors \u001b[38;5;241m=\u001b[39m \u001b[38;5;28;01mNone\u001b[39;00m  \u001b[38;5;66;03m# use cmap, norm after collection is created\u001b[39;00m\n",
      "\u001b[0;31mValueError\u001b[0m: 'c' argument has 87 elements, which is inconsistent with 'x' and 'y' with size 1."
     ]
    },
    {
     "data": {
      "image/png": "[encoded data removed]",
      "text/plain": [
       "<Figure size 1400x600 with 1 Axes>"
      ]
     },
     "metadata": {},
     "output_type": "display_data"
    }
   ],
   "source": [
    "from z2hex.plotting import local_observable_plot\n",
    "\n",
    "local_observable_plot(jobs[0][0], lattice)"
   ]
  },
  {
   "cell_type": "code",
   "execution_count": null,
   "metadata": {},
   "outputs": [],
   "source": []
  }
 ],
 "metadata": {
  "kernelspec": {
   "display_name": "qiskit",
   "language": "python",
   "name": "python3"
  },
  "language_info": {
   "codemirror_mode": {
    "name": "ipython",
    "version": 3
   },
   "file_extension": ".py",
   "mimetype": "text/x-python",
   "name": "python",
   "nbconvert_exporter": "python",
   "pygments_lexer": "ipython3",
   "version": "3.12.3"
  }
 },
 "nbformat": 4,
 "nbformat_minor": 2
}
