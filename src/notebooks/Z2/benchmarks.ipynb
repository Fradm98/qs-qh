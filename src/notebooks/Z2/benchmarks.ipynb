{
 "cells": [
  {
   "cell_type": "markdown",
   "metadata": {},
   "source": [
    "# Quantum Devices becnhmarking"
   ]
  },
  {
   "cell_type": "code",
   "execution_count": 3,
   "metadata": {},
   "outputs": [],
   "source": [
    "python_script = \"../../z2chain/benchmark.py\"\n",
    "stdout_path = \"../../z2chain/benchmark.log\"\n",
    "stderr_path = \"../../z2chain/benchmark.err\"\n",
    "database_path = \"../../z2chain/benchmarkdb.json\""
   ]
  },
  {
   "cell_type": "markdown",
   "metadata": {},
   "source": [
    "## Launctl status"
   ]
  },
  {
   "cell_type": "code",
   "execution_count": 4,
   "metadata": {},
   "outputs": [
    {
     "name": "stdout",
     "output_type": "stream",
     "text": [
      "The benchmark is NOT running\n"
     ]
    }
   ],
   "source": [
    "from utils.benchmarking import check_benchmark_status_mac\n",
    "\n",
    "check_benchmark_status_mac(stdout_path)"
   ]
  },
  {
   "cell_type": "markdown",
   "metadata": {},
   "source": [
    "## Benchmark settings"
   ]
  },
  {
   "cell_type": "code",
   "execution_count": 5,
   "metadata": {},
   "outputs": [],
   "source": [
    "from dateutil.relativedelta import relativedelta\n",
    "from utils.benchmarking import create_estimator_options\n",
    "\n",
    "J = 1\n",
    "h = 0.05\n",
    "lamb = 0.7\n",
    "t_compute = 1.6\n",
    "x_basis = False\n",
    "\n",
    "L_arr = [40]\n",
    "layers_arr = [5]\n",
    "backends_arr = [\"ibm_fez\", \"ibm_torino\", \"ibm_kyiv\", \"ibm_sherbrooke\", \"ibm_brussels\"]\n",
    "\n",
    "shots = [4096]\n",
    "optimization_levels = [0]\n",
    "zne_extrapolator_noise_levels = [None, (\"linear\", (1, 1.2, 1.5)), (\"polynomial_degree_2\", (1, 1.2, 1.5)), (\"exponential\", (1, 1.2, 1.5))]\n",
    "measure_mitigations = [True]\n",
    "dd_sequences = [\"XY4\"]\n",
    "twirlings = [True]\n",
    "estimator_options_dicts = create_estimator_options(shots, optimization_levels, zne_extrapolator_noise_levels, measure_mitigations, dd_sequences, twirlings)\n",
    "\n",
    "seconds_to_start_interval = 21600\n",
    "start_relativedeltas = [relativedelta(hour=0, minute=0), relativedelta(hour=4, minute=0), relativedelta(hour=8, minute=0), relativedelta(hour=12, minute=0), relativedelta(hour=16, minute=0), relativedelta(hour=20, minute=0)]"
   ]
  },
  {
   "cell_type": "markdown",
   "metadata": {},
   "source": [
    "### Run benchmark"
   ]
  },
  {
   "cell_type": "code",
   "execution_count": 6,
   "metadata": {},
   "outputs": [],
   "source": [
    "from utils.benchmarking import generate_and_execute_launchctl_file_mac\n",
    "from cobos.tokens import ibm_token, group_instance\n",
    "import json\n",
    "\n",
    "args = [\n",
    "    database_path,\n",
    "    ibm_token,\n",
    "    \"-i\", group_instance,\n",
    "    \"-n\", *L_arr,\n",
    "    \"-d\", *layers_arr,\n",
    "    \"-b\", *backends_arr,\n",
    "    \"-t\", t_compute,\n",
    "    \"-j\", J,\n",
    "    \"-g\", h,\n",
    "    \"-l\", lamb,\n",
    "    \"-o\", json.dumps(estimator_options_dicts),\n",
    "]\n",
    "\n",
    "if x_basis: args.append(\"-x\")\n",
    "\n",
    "args = [str(arg) for arg in args]\n",
    "\n",
    "generate_and_execute_launchctl_file_mac(\n",
    "    python_script,\n",
    "    *args,\n",
    "    seconds_start_interval=seconds_to_start_interval,\n",
    "    start_relativedeltas=start_relativedeltas,\n",
    "    stdout_path=stdout_path,\n",
    "    stderr_path=stderr_path,\n",
    ")"
   ]
  },
  {
   "cell_type": "markdown",
   "metadata": {},
   "source": [
    "### Stop benchmark"
   ]
  },
  {
   "cell_type": "code",
   "execution_count": 1,
   "metadata": {},
   "outputs": [],
   "source": [
    "from utils.benchmarking import stop_benchmark_mac\n",
    "\n",
    "stop_benchmark_mac()"
   ]
  },
  {
   "cell_type": "markdown",
   "metadata": {},
   "source": [
    "## Database utilities"
   ]
  },
  {
   "cell_type": "markdown",
   "metadata": {},
   "source": [
    "### Update database"
   ]
  },
  {
   "cell_type": "code",
   "execution_count": 3,
   "metadata": {},
   "outputs": [
    {
     "name": "stdout",
     "output_type": "stream",
     "text": [
      "Updating benchmark index: 1/379, Job_dict: 5/5, Job: 1/1                                           "
     ]
    }
   ],
   "source": [
    "from qiskit_ibm_runtime import QiskitRuntimeService\n",
    "from cobos.tokens import ibm_token, group_instance\n",
    "from utils.benchmarking import BenchmarkDB\n",
    "\n",
    "benchmarkdb = BenchmarkDB(database_path)\n",
    "\n",
    "service = QiskitRuntimeService(channel=\"ibm_quantum\", token=ibm_token, instance=group_instance)\n",
    "benchmarkdb.update_status(service, print_mode=True)"
   ]
  },
  {
   "cell_type": "markdown",
   "metadata": {},
   "source": [
    "## Plot"
   ]
  },
  {
   "cell_type": "markdown",
   "metadata": {},
   "source": [
    "### Date selection"
   ]
  },
  {
   "cell_type": "code",
   "execution_count": 1,
   "metadata": {},
   "outputs": [
    {
     "data": {
      "application/vnd.jupyter.widget-view+json": {
       "model_id": "4e4318b6dc3047b896e9f41a128e3129",
       "version_major": 2,
       "version_minor": 0
      },
      "text/plain": [
       "DatetimePicker(value=None, description='Start time')"
      ]
     },
     "metadata": {},
     "output_type": "display_data"
    },
    {
     "data": {
      "application/vnd.jupyter.widget-view+json": {
       "model_id": "91018e08b698475ca48c4d8fd6650e84",
       "version_major": 2,
       "version_minor": 0
      },
      "text/plain": [
       "DatetimePicker(value=None, description='Final time')"
      ]
     },
     "metadata": {},
     "output_type": "display_data"
    }
   ],
   "source": [
    "from ipywidgets import DatetimePicker\n",
    "\n",
    "start_time_dtpicker = DatetimePicker(description=\"Start time\")\n",
    "final_time_dtpicker = DatetimePicker(description=\"Final time\")\n",
    "display(start_time_dtpicker, final_time_dtpicker)"
   ]
  }
 ],
 "metadata": {
  "kernelspec": {
   "display_name": "qiskit",
   "language": "python",
   "name": "python3"
  },
  "language_info": {
   "codemirror_mode": {
    "name": "ipython",
    "version": 3
   },
   "file_extension": ".py",
   "mimetype": "text/x-python",
   "name": "python",
   "nbconvert_exporter": "python",
   "pygments_lexer": "ipython3",
   "version": "3.12.3"
  }
 },
 "nbformat": 4,
 "nbformat_minor": 2
}
