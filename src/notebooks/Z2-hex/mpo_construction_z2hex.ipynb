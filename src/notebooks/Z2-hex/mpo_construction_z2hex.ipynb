{
 "cells": [
  {
   "cell_type": "markdown",
   "metadata": {},
   "source": [
    "# 1. Proof of plaquette expansion"
   ]
  },
  {
   "cell_type": "code",
   "execution_count": null,
   "metadata": {},
   "outputs": [],
   "source": [
    "from sympy import symbols, Matrix, latex, expand, simplify\n",
    "from IPython.display import display, Math\n",
    "\n",
    "# Define non-commutative symbols\n",
    "a1,a3,a5,a12,a10,a8 = symbols('\\\\tau_1 \\\\tau_3 \\\\tau_5 \\\\tau_{12} \\\\tau_{10} \\\\tau_8', commutative=False)\n",
    "b2,b4,b7,b11,b9,b6 = symbols('\\\\sigma_2 \\\\sigma_4 \\\\sigma_7 \\\\sigma_{11} \\\\sigma_9 \\\\sigma_6', commutative=False)\n",
    "c = symbols('\\\\alpha')"
   ]
  },
  {
   "cell_type": "code",
   "execution_count": null,
   "metadata": {},
   "outputs": [],
   "source": [
    "res = expand((1+c*(a1*b2*a3))*(1+c*(a3*b4*a5))*(1+c*(a5*b7*a12))*(1+c*(a12*b11*a10))*(1+c*(a10*b9*a8))*(1+c*(a8*b6*a1)))"
   ]
  },
  {
   "cell_type": "code",
   "execution_count": null,
   "metadata": {},
   "outputs": [],
   "source": [
    "# Define a substitution rule for Pauli matrices squaring to identity\n",
    "subs_rules = {\n",
    "    a1**2: 1, a3**2: 1, a5**2: 1, a12**2: 1, a10**2: 1, a8**2: 1,\n",
    "    b2**2: 1, b4**2: 1, b7**2: 1, b11**2: 1, b9**2: 1, b6**2: 1\n",
    "}\n",
    "\n",
    "# Simplify the result using the substitution rule\n",
    "simplified_res = res.subs(subs_rules)\n",
    "\n",
    "# Display the simplified result\n",
    "simplified_res"
   ]
  },
  {
   "cell_type": "code",
   "execution_count": null,
   "metadata": {},
   "outputs": [],
   "source": [
    "g_r = 0.85\n",
    "lamb = (1/g_r) ** (1/6) \n",
    "print(lamb)\n",
    "1/g_r"
   ]
  },
  {
   "cell_type": "code",
   "execution_count": null,
   "metadata": {},
   "outputs": [],
   "source": [
    "from IPython.display import Markdown as md\n",
    "\n",
    "md(f\"The result of the expansion is: \\n ${latex(simplified_res)}$\")"
   ]
  },
  {
   "cell_type": "markdown",
   "metadata": {},
   "source": [
    "# 2. MPO for Z2 Dynamical Matter on HeavyHex architecture"
   ]
  },
  {
   "cell_type": "code",
   "execution_count": null,
   "metadata": {},
   "outputs": [],
   "source": [
    "def generate_subgroups(l, site):\n",
    "    if (site%2) == 0:\n",
    "        # Initialize the list with the correct starting point\n",
    "        subgroups = [\"down\"] if l % 2 == 0 else [\"up\"]\n",
    "        # Alternate \"up\" and \"down\" to build the list\n",
    "        for i in range(1, l + 1):\n",
    "            subgroups.append(\"up\" if subgroups[-1] == \"down\" else \"down\")\n",
    "    elif (site%2) == 1:\n",
    "        # Initialize the list with the correct starting point\n",
    "        subgroups = [\"up\"] if l % 2 == 0 else [\"down\"]\n",
    "        # Alternate \"up\" and \"down\" to build the list\n",
    "        for i in range(1, l + 1):\n",
    "            subgroups.append(\"down\" if subgroups[-1] == \"up\" else \"up\")\n",
    "    \n",
    "    return subgroups\n",
    "\n",
    "generate_subgroups(l=1,site=2)"
   ]
  },
  {
   "cell_type": "code",
   "execution_count": null,
   "metadata": {},
   "outputs": [],
   "source": [
    "from ncon import ncon\n",
    "from scipy.sparse import csc_array, identity, linalg\n",
    "import numpy as np\n",
    "\n",
    "def sparse_non_diag_paulis_indices(n: int, N: int):\n",
    "    \"\"\"\n",
    "    Returns a tuple (row_indices, col_indices) containing the row and col indices of the non_zero elements\n",
    "    of the tensor product of a non diagonal pauli matrix (x, y) acting over a single qubit in a Hilbert\n",
    "    space of N qubits\n",
    "\n",
    "    \"\"\"\n",
    "    if 0 <= n < N:\n",
    "        block_length = 2 ** (N - n - 1)\n",
    "        nblocks = 2**n\n",
    "        ndiag_elements = block_length * nblocks\n",
    "        k = np.arange(ndiag_elements, dtype=int)\n",
    "        red_row_col_ind = (k % block_length) + 2 * (k // block_length) * block_length\n",
    "        upper_diag_row_indices = red_row_col_ind\n",
    "        upper_diag_col_indices = block_length + red_row_col_ind\n",
    "        row_indices = np.concatenate((upper_diag_row_indices, upper_diag_col_indices))\n",
    "        col_indices = np.concatenate((upper_diag_col_indices, upper_diag_row_indices))\n",
    "        return row_indices, col_indices\n",
    "    else:\n",
    "        raise ValueError(\"Index n must fulfill 0 <= n < N\")\n",
    "\n",
    "\n",
    "def sparse_pauli_x(\n",
    "    n: int,\n",
    "    L: int,\n",
    "    row_indices_cache: np.ndarray = None,\n",
    "    col_indices_cache: np.ndarray = None,\n",
    "):\n",
    "    \"\"\"\n",
    "    Returns a CSC sparse matrix representation of the pauli_x matrix acting over qubit n in a Hilbert space of L qubits\n",
    "    0 <= n < L\n",
    "\n",
    "    \"\"\"\n",
    "    if 0 <= n < L:\n",
    "        if (row_indices_cache is None) or (col_indices_cache is None):\n",
    "            row_indices_cache, col_indices_cache = sparse_non_diag_paulis_indices(n, L)\n",
    "        data = np.ones_like(row_indices_cache)\n",
    "        result = csc_array(\n",
    "            (data, (row_indices_cache, col_indices_cache)), shape=(2**L, 2**L)\n",
    "        )  # , dtype=complex\n",
    "        return result\n",
    "    else:\n",
    "        raise ValueError(\"Index n must fulfill 0 <= n < L\")\n",
    "    \n",
    "\n",
    "def sparse_pauli_z(n: int, L: int):\n",
    "    \"\"\"\n",
    "    Returns a CSC sparse matrix representation of the pauli_z matrix acting over qubit n in a Hilbert space of L qubits\n",
    "    0 <= n < L\n",
    "\n",
    "    \"\"\"\n",
    "    if 0 <= n < L:\n",
    "        block_length = 2 ** (L - n)\n",
    "        nblocks = 2**n\n",
    "        block = np.ones(block_length, dtype=int)\n",
    "        block[block_length // 2 : :] = -1\n",
    "        diag = np.tile(block, nblocks)\n",
    "        row_col_indices = np.arange(2**L, dtype=int)\n",
    "        result = csc_array(\n",
    "            (diag, (row_col_indices, row_col_indices)),\n",
    "            shape=(2**L, 2**L),\n",
    "            dtype=complex,\n",
    "        )\n",
    "        return result\n",
    "    else:\n",
    "        raise ValueError(\"Index n must fulfill 0 <= n < L\")\n",
    "\n",
    "\n",
    "def mpo_skeleton(l: int, l_int: int = None, aux_dim: int = None):\n",
    "    \"\"\"\n",
    "    mpo_skeleton\n",
    "\n",
    "    This function initializes the mpo tensor or shape (2+l,2+l,2**l,2**l)\n",
    "    with O matrices. We add as well the identities in the first and last\n",
    "    element of the mpo tensor.\n",
    "\n",
    "    aux_dim: int - This auxiliary dimension represents how many rows and\n",
    "                columns we want in our MPO. By default None means that it adapts\n",
    "                to the system under study. Fixing the auxiliary dimension is\n",
    "                useful for known observables which will not need larger MPOs\n",
    "    \"\"\"\n",
    "    if l_int == None:\n",
    "        l_int = l\n",
    "    I = identity(2**l_int, dtype=complex)\n",
    "    O = csc_array((2**l_int, 2**l_int), dtype=complex)\n",
    "    if aux_dim == None:\n",
    "        skeleton = np.array(\n",
    "            [[O.toarray() for i in range(2 + l)] for j in range(2 + l)]\n",
    "        )\n",
    "    else:\n",
    "        skeleton = np.array(\n",
    "            [[O.toarray() for i in range(aux_dim)] for j in range(aux_dim)]\n",
    "        )\n",
    "    skeleton[0, 0] = I.toarray()\n",
    "    skeleton[-1, -1] = I.toarray()\n",
    "    mpo = skeleton\n",
    "    return mpo\n",
    "\n",
    "def mpo_Z2_heavy_hex(L, l, J, h, lamb, U=1000):\n",
    "\n",
    "    mpo_list = []\n",
    "    for c in range(L):\n",
    "        mpo = mpo_skeleton(l=l, l_int=3*(l+1), aux_dim=(l+3))\n",
    "\n",
    "        subgroups = generate_subgroups(l=l, site=c)\n",
    "        print(f\"\\n >> subgroups: {subgroups}\\n\")\n",
    "        for i, subgroup in enumerate(subgroups):\n",
    "            print(f\"\\n*** finding hamiltonian terms for subgroup: {subgroup}, number: {i}, site: {c}\\n\")\n",
    "            # local matter term\n",
    "            print(\"     local matter term\")\n",
    "            mpo[0,-1] += - J * sparse_pauli_z(n=i * 3, L=3*(l+1)).toarray()\n",
    "            # local horizontal gauge term\n",
    "            print(\"     local horizontal gauge term\")\n",
    "            mpo[0,-1] += - h * sparse_pauli_z(n=i * 3 + 1, L=3*(l+1)).toarray()\n",
    "            # local vertical gauge term\n",
    "            print(\"     local vertical gauge term\")\n",
    "            mpo[0,-1] += - h * sparse_pauli_z(n=i * 3 + 2, L=3*(l+1)).toarray()\n",
    "        \n",
    "            if i > 0 and subgroups[i] == \"up\" and subgroups[i-1] == \"down\":\n",
    "                # subtract redundant vertical gauge term\n",
    "                print(\"     subtract redundant vertical gauge term\")\n",
    "                mpo[0,-1] -= - h * sparse_pauli_z(n=i * 3 + 2, L=3*(l+1)).toarray()\n",
    "                # interaction vertical term\n",
    "                print(\"     interaction vertical term\")\n",
    "                mpo[0,-1] += - lamb * sparse_pauli_x(n=((i-1) * 3), L=3*(l+1)).toarray() @ sparse_pauli_x(n=((i-1) * 3) + 2, L=3*(l+1)).toarray() @ sparse_pauli_x(n=(i * 3), L=3*(l+1)).toarray()\n",
    "\n",
    "            # start intercation horizontal term (matter + gauge)\n",
    "            print(\"     start intercation horizontal term (matter + gauge)\")\n",
    "            mpo[0,i+1] = sparse_pauli_x(n=(i * 3), L=3*(l+1)).toarray() @ sparse_pauli_x(n=(i * 3) + 1, L=3*(l+1)).toarray()\n",
    "            # start intercation horizontal term (matter + gauge)\n",
    "            print(\"     end intercation horizontal term (matter)\")\n",
    "            mpo[i+1,-1] = - lamb * sparse_pauli_x(n=(i * 3), L=3*(l+1)).toarray()\n",
    "            \n",
    "            if U != 0:\n",
    "                # separating physical states with gauss law penalization\n",
    "                print(\"     gauss law penalization term\")\n",
    "                G = sparse_pauli_z(n=(i * 3), L=3*(l+1)) @ sparse_pauli_z(n=(i * 3) + 1, L=3*(l+1)) @ sparse_pauli_z(n=(i * 3) + 2, L=3*(l+1))\n",
    "                mpo[0,-1] += U * (G.toarray() - identity(2**(3*(l+1))).toarray()) @ (G.toarray() - identity(2**(3*(l+1))).toarray())\n",
    "            \n",
    "            # mpo[0,(i+1)+len(subgroups)] = sparse_pauli_z(n=(i * 3) + 1, L=3*(l+1)) @ sparse_pauli_z(n=(i * 3) + 2, L=3*(l+1))\n",
    "            # G = sparse_pauli_z(n=((i-1) * 3) + 1, L=3*(l+1)) @ sparse_pauli_z(n=(i * 3), L=3*(l+1)) @ sparse_pauli_z(n=(i * 3) + 1, L=3*(l+1)) @ sparse_pauli_z(n=(i * 3) + 2, L=3*(l+1))\n",
    "        \n",
    "        mpo_list.append(mpo)\n",
    "        mpo = mpo_skeleton(l=l, l_int=3*(l+1), aux_dim=(l+3))\n",
    "    return mpo_list"
   ]
  },
  {
   "cell_type": "code",
   "execution_count": null,
   "metadata": {},
   "outputs": [],
   "source": [
    "L = 4\n",
    "l = 1\n",
    "mpo = mpo_Z2_heavy_hex(L, l=l, J=10, h=5, lamb=1)\n",
    "mpo[0].shape, [(l+3), (2**3)**(l+1)]"
   ]
  },
  {
   "cell_type": "markdown",
   "metadata": {},
   "source": [
    "## 2.1 Run the DMRG to inspect the parameter range"
   ]
  },
  {
   "cell_type": "code",
   "execution_count": null,
   "metadata": {},
   "outputs": [],
   "source": [
    "from qs_mps.mps_class import MPS\n",
    "from qs_mps.utils import tensor_shapes\n",
    "chi = 30\n",
    "L = 4\n",
    "l = 1\n",
    "phys_dim = (2**3)**(l+1)\n",
    "\n",
    "mps = MPS(L=L, d=phys_dim, model=\"Z2_higgs\", chi=chi)\n",
    "mps._random_state(seed=3, type_shape=\"rectangular\", chi=chi)\n",
    "mps.canonical_form()\n",
    "tensor_shapes(mps.sites)\n",
    "\n",
    "mpo = mpo_Z2_heavy_hex(L, l=l, J=10, h=1, lamb=1, U=0)\n",
    "tensor_shapes(mpo) \n",
    "print([(l+3), (2**3)**(l+1)])\n",
    "mps.w = mpo\n",
    "\n",
    "mps.DMRG(trunc_chi=True, trunc_tol=False, where=L//2)\n"
   ]
  },
  {
   "cell_type": "markdown",
   "metadata": {},
   "source": [
    "### 2.1.1 Mapping of $g$ into $h$ and $\\lambda$"
   ]
  },
  {
   "cell_type": "markdown",
   "metadata": {},
   "source": [
    "We have a Pure (static matter) $\\mathcal{Z}_2$ LGT with electric and plaquette terms and the coefficients are, respectively, $g$, and $1/g$.\n",
    "\n",
    "We want now to use the results from the section **1.** to map the couplings in the dynamical matter Theory.\n",
    "\n",
    "$$ g \\leftrightarrow h \\quad ; \\quad \\left(\\frac{1}{g}\\right)^{\\frac{1}{6}} \\leftrightarrow \\lambda \\quad .$$"
   ]
  },
  {
   "cell_type": "code",
   "execution_count": null,
   "metadata": {},
   "outputs": [],
   "source": [
    "gs = np.logspace(-3,-1,20)\n",
    "# gs = np.linspace(0.01,0.1,20)\n",
    "chi = 32\n",
    "L = 4\n",
    "l = 1\n",
    "phys_dim = (2**3)**(l+1)\n",
    "\n",
    "# check params range\n",
    "for g in gs:\n",
    "    h = g\n",
    "    lamb = (1/g)**(1/6)\n",
    "    print(f\"\\n ####### params h: {h}, lambda: {lamb}\\n\")"
   ]
  },
  {
   "cell_type": "code",
   "execution_count": null,
   "metadata": {},
   "outputs": [],
   "source": [
    "energies = []\n",
    "entropies = []\n",
    "sms = []\n",
    "times = []\n",
    "\n",
    "for g in gs:\n",
    "    h = g\n",
    "    lamb = (1/g)**(1/6)\n",
    "    print(f\"\\n ####### params h: {h}, lambda: {lamb}\\n\")\n",
    "    mps = MPS(L=L, d=phys_dim, model=\"Z2_higgs\", chi=chi)\n",
    "    mps._random_state(seed=3, type_shape=\"rectangular\", chi=chi)\n",
    "    mps.canonical_form()\n",
    "    tensor_shapes(mps.sites)\n",
    "\n",
    "    mpo = mpo_Z2_heavy_hex(L, l=l, J=10, h=h, lamb=lamb, U=0)\n",
    "    tensor_shapes(mpo) \n",
    "    print([(l+3), (2**3)**(l+1)])\n",
    "    mps.w = mpo\n",
    "\n",
    "    energy, entropy, schmidt_val, time = mps.DMRG(trunc_chi=True, trunc_tol=False, where=L//2)\n",
    "    energies.append(energy[-1])\n",
    "    entropies.append(entropy)\n",
    "    sms.append(schmidt_val)\n",
    "    times.append(time)\n"
   ]
  },
  {
   "cell_type": "code",
   "execution_count": null,
   "metadata": {},
   "outputs": [],
   "source": [
    "import matplotlib.pyplot as plt\n",
    "\n",
    "plt.plot(gs, entropies)\n",
    "plt.grid(True)\n",
    "plt.title(\"Static entropy, vacuum sector\")"
   ]
  },
  {
   "cell_type": "code",
   "execution_count": null,
   "metadata": {},
   "outputs": [],
   "source": [
    "plt.plot(gs, energies)\n",
    "plt.grid(True)\n",
    "plt.title(\"Ground state energy, vacuum sector\")"
   ]
  },
  {
   "cell_type": "code",
   "execution_count": null,
   "metadata": {},
   "outputs": [],
   "source": [
    "plt.plot(gs, np.asarray(sms)[:,0,-1])\n",
    "plt.yscale('log')\n",
    "plt.grid(True)\n",
    "plt.title(\"Last schmidt values, vacuum sector\")"
   ]
  }
 ],
 "metadata": {
  "kernelspec": {
   "display_name": "qs_qh",
   "language": "python",
   "name": "python3"
  },
  "language_info": {
   "codemirror_mode": {
    "name": "ipython",
    "version": 3
   },
   "file_extension": ".py",
   "mimetype": "text/x-python",
   "name": "python",
   "nbconvert_exporter": "python",
   "pygments_lexer": "ipython3",
   "version": "3.12.3"
  }
 },
 "nbformat": 4,
 "nbformat_minor": 2
}
