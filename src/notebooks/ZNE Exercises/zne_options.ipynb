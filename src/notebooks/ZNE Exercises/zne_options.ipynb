{
 "cells": [
  {
   "cell_type": "markdown",
   "metadata": {},
   "source": [
    "More detais about how to configure error mitigation with for Qiskit runtime can be found in [this tutorial](https://learning.quantum.ibm.com/tutorial/combine-error-mitigation-options-with-the-estimator-primitive) as well as in [the documentation](https://docs.quantum.ibm.com/run/configure-error-mitigation).\n",
    "\n",
    "\n",
    "When using the Estimator primitive, we can use the ```EstimatorOptions()``` object to set the options for error mitigation and error suppression techniques. This table shows the most used ones:\n",
    "\n",
    "| Options              | Sub-options              | Sub-sub-options         | Choices                                                                                   | Default                   |\n",
    "|----------------------|--------------------------|-------------------------|-------------------------------------------------------------------------------------------|---------------------------|\n",
    "| default_shots        |                          |                         |                                                                                           | `4096`                      |\n",
    "| optimization_level   |                          |                         | `0`/`1`                                                                                       | `1`                         |\n",
    "| resilience_level     |                          |                         | `0`/`1`/`2`                                                                                     | `1`                         |\n",
    "| dynamical_decoupling | enable                   |                         |`True`/`False`                                                                                           |`False`                           |\n",
    "|                      | sequence_type            |                         | `'XX'`/`'XpXm'`/`'XY4'`                                                                         | `'XX'`                      |\n",
    "|                      | extra_slack_distribution |                         | `'middle'`/`'edges'`                                                                          | `'middle'`                  |\n",
    "|                      | scheduling_method        |                         | `'asap'`/`'alap'`                                                                            | `'alap'`                    |\n",
    "| resilience           | measure_mitigation       |                         | `True`/`False`                                                                                | `True`                      |\n",
    "|                      | measure_noise_learning   | num_randomizations      |                                                                                           | `32`                      |\n",
    "|                      |                          | shots_per_randomization |                                                                                           | `'auto'`                    |\n",
    "|                      | zne_mitigation           |                         | `True`/`False`                                                                                | `False`                     |\n",
    "|                      | zne                      | noise_factors           |                                                                                           | `(1, 3, 5)`                 |\n",
    "|                      |                          | extrapolator            | `'exponential'`/<br>`'linear'`/<br>`'double_exponential'`/<br>`'polynomial_degree_(1 <= k <= 7)'` | (`'exponential'`, `'linear'`) |\n",
    "| twirling             | enable_gates             |                         | `True`/`False`                                                                                      | `False`                     |\n",
    "|                      | enable_measure           |                         | `True`/`False`                                                                                      | `True`                      |\n",
    "|                      | num_randomizations       |                         |                                                                                           | `'auto'`                    |\n",
    "|                      | shots_per_randomization  |                         |                                                                                           | `'auto'`                    |\n",
    "|                      | strategy                 |                         | `'active'`/<br>`'active-circuit'`/<br>`'active-accum'`/<br>`'all'`                                | `'active-accum'`            |"
   ]
  }
 ],
 "metadata": {
  "language_info": {
   "name": "python"
  }
 },
 "nbformat": 4,
 "nbformat_minor": 2
}
