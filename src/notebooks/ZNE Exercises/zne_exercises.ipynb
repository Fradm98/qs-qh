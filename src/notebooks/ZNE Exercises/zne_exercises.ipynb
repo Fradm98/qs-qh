{
 "cells": [
  {
   "cell_type": "code",
   "execution_count": null,
   "metadata": {},
   "outputs": [],
   "source": [
    "%load_ext autoreload\n",
    "%autoreload 2"
   ]
  },
  {
   "cell_type": "code",
   "execution_count": null,
   "metadata": {},
   "outputs": [],
   "source": [
    "# # fix relative imports\n",
    "# import os\n",
    "# cwd = os.path.normpath(os.getcwd())\n",
    "# cwd = cwd.split(os.sep)\n",
    "# find = cwd.index(\"qs_qh\")\n",
    "# newdir = f\"{os.sep}\".join(cwd[:find+1])\n",
    "# os.chdir(newdir)\n",
    "\n",
    "from fradm.utils import *\n",
    "from fradm.execute_circuits import *\n",
    "from fradm.result_analysis import *\n",
    "from fradm.plotting import *"
   ]
  },
  {
   "cell_type": "markdown",
   "metadata": {},
   "source": [
    "# Challenges"
   ]
  },
  {
   "cell_type": "markdown",
   "metadata": {},
   "source": [
    "## No ZNE"
   ]
  },
  {
   "cell_type": "code",
   "execution_count": null,
   "metadata": {},
   "outputs": [],
   "source": [
    "qubits = [4,8,16,32,64]\n",
    "depths = [4,8,16,32,64]\n",
    "construct_batches_execution(LIST_QUBITS=qubits, LIST_DEPTHS=depths, stat_shots=3, zne=False)"
   ]
  },
  {
   "cell_type": "markdown",
   "metadata": {},
   "source": [
    "### Get results and Plot"
   ]
  },
  {
   "cell_type": "code",
   "execution_count": null,
   "metadata": {},
   "outputs": [],
   "source": [
    "service = QiskitRuntimeService(name=\"ibm-ikerbasque\")\n",
    "qubits = [4,8,16,32,64]\n",
    "depths = [4,8,16,32,64]"
   ]
  },
  {
   "cell_type": "code",
   "execution_count": null,
   "metadata": {},
   "outputs": [],
   "source": [
    "zne = False\n",
    "zne_extrapolator = \"no_zne\"\n",
    "mem = False\n",
    "\n",
    "mean_errors = retrieve_results(qubits, depths, zne_extrapolator, mem, zne, service)"
   ]
  },
  {
   "cell_type": "code",
   "execution_count": null,
   "metadata": {},
   "outputs": [],
   "source": [
    "# Generate some random data (replace this with your actual data)\n",
    "data = (1 - np.asarray(mean_errors)).reshape((len(qubits),len(depths)))\n",
    "\n",
    "plot_colormap(data, qubits, depths, zne_extrapolator, mem)"
   ]
  },
  {
   "cell_type": "code",
   "execution_count": null,
   "metadata": {},
   "outputs": [],
   "source": [
    "plot_results(data, qubits, depths, zne_extrapolator, mem)"
   ]
  },
  {
   "cell_type": "markdown",
   "metadata": {},
   "source": [
    "## ZNE with no Measure Mitigation"
   ]
  },
  {
   "cell_type": "code",
   "execution_count": null,
   "metadata": {},
   "outputs": [],
   "source": [
    "service = QiskitRuntimeService(name=\"ibm-ikerbasque\")\n",
    "job_ids = retrieve_job_id(qubits[0], depths[0], \"no_zne\", False, \"logs/jobs_qubits_[4, 8, 16, 32, 64]_depths_[4, 8, 16, 32, 64]_pauli-Z_weight_1_stat_shots_3_zne_False_mem_False\")\n",
    "job = service.job(job_id=job_ids[0])\n",
    "backend = job.backend()\n",
    "qubits = [4,8,16,32,64]\n",
    "depths = [4,8,16,32,64]\n",
    "construct_batches_execution(LIST_QUBITS=qubits, LIST_DEPTHS=depths, stat_shots=3, zne=True, backend=backend)"
   ]
  },
  {
   "cell_type": "markdown",
   "metadata": {},
   "source": [
    "### Linear ZNE"
   ]
  },
  {
   "cell_type": "code",
   "execution_count": null,
   "metadata": {},
   "outputs": [],
   "source": [
    "service = QiskitRuntimeService(name=\"ibm-ikerbasque\")\n",
    "qubits = [4,8,16,32,64]\n",
    "depths = [4,8,16,32,64]"
   ]
  },
  {
   "cell_type": "code",
   "execution_count": null,
   "metadata": {},
   "outputs": [],
   "source": [
    "zne = True\n",
    "zne_extrapolator = \"linear\"\n",
    "mem = False\n",
    "\n",
    "mean_errors = retrieve_results(qubits, depths, zne_extrapolator, mem, zne, service)"
   ]
  },
  {
   "cell_type": "code",
   "execution_count": null,
   "metadata": {},
   "outputs": [],
   "source": [
    "# Generate some random data (replace this with your actual data)\n",
    "data = (1 - np.asarray(mean_errors)).reshape((len(qubits),len(depths)))\n",
    "\n",
    "plot_colormap(data, qubits, depths, zne_extrapolator, mem)"
   ]
  },
  {
   "cell_type": "code",
   "execution_count": null,
   "metadata": {},
   "outputs": [],
   "source": [
    "plot_results(data, qubits, depths, zne_extrapolator, mem)"
   ]
  },
  {
   "cell_type": "markdown",
   "metadata": {},
   "source": [
    "### Quadratic ZNE"
   ]
  },
  {
   "cell_type": "code",
   "execution_count": null,
   "metadata": {},
   "outputs": [],
   "source": [
    "service = QiskitRuntimeService(name=\"ibm-ikerbasque\")\n",
    "qubits = [4,8,16,32,64]\n",
    "depths = [4,8,16,32,64]"
   ]
  },
  {
   "cell_type": "code",
   "execution_count": null,
   "metadata": {},
   "outputs": [],
   "source": [
    "zne = True\n",
    "zne_extrapolator = \"polynomial_degree_2\"\n",
    "mem = False\n",
    "\n",
    "mean_errors = retrieve_results(qubits, depths, zne_extrapolator, mem, zne, service)"
   ]
  },
  {
   "cell_type": "code",
   "execution_count": null,
   "metadata": {},
   "outputs": [],
   "source": [
    "data = (1 - np.asarray(mean_errors)).reshape((len(qubits),len(depths)))\n",
    "\n",
    "plot_colormap(data, qubits, depths, zne_extrapolator, mem)"
   ]
  },
  {
   "cell_type": "markdown",
   "metadata": {},
   "source": [
    "### Exponential ZNE"
   ]
  },
  {
   "cell_type": "code",
   "execution_count": null,
   "metadata": {},
   "outputs": [],
   "source": [
    "service = QiskitRuntimeService(name=\"ibm-ikerbasque\")\n",
    "qubits = [4,8,16,32,64]\n",
    "depths = [4,8,16,32,64]"
   ]
  },
  {
   "cell_type": "code",
   "execution_count": null,
   "metadata": {},
   "outputs": [],
   "source": [
    "zne = True\n",
    "zne_extrapolator = \"exponential\"\n",
    "mem = False\n",
    "\n",
    "mean_errors = retrieve_results(qubits, depths, zne_extrapolator, mem, zne, service)"
   ]
  },
  {
   "cell_type": "markdown",
   "metadata": {},
   "source": [
    "## ZNE with Measure Mitigation"
   ]
  },
  {
   "cell_type": "code",
   "execution_count": null,
   "metadata": {},
   "outputs": [],
   "source": [
    "service = QiskitRuntimeService(name=\"ibm-ikerbasque\")\n",
    "job_ids = retrieve_job_id(qubits[0], depths[0], \"no_zne\", False, \"logs/jobs_qubits_[4, 8, 16, 32, 64]_depths_[4, 8, 16, 32, 64]_pauli-Z_weight_1_stat_shots_3_zne_False_mem_False\")\n",
    "job = service.job(job_id=job_ids[0])\n",
    "backend = job.backend()\n",
    "qubits = [4,8,16,32,64]\n",
    "depths = [4,8,16,32,64]\n",
    "construct_batches_execution(LIST_QUBITS=qubits, LIST_DEPTHS=depths, stat_shots=3, zne=True, backend=backend, err_mitig=1)"
   ]
  },
  {
   "cell_type": "markdown",
   "metadata": {},
   "source": [
    "### Linear ZNE"
   ]
  },
  {
   "cell_type": "code",
   "execution_count": null,
   "metadata": {},
   "outputs": [],
   "source": [
    "service = QiskitRuntimeService(name=\"ibm-ikerbasque\")\n",
    "qubits = [4,8,16,32,64]\n",
    "depths = [4,8,16,32,64]\n",
    "zne = True\n",
    "zne_extrapolator = \"linear\"\n",
    "mem = False\n",
    "\n",
    "mean_errors = retrieve_results(qubits, depths, zne_extrapolator, mem, zne, service)"
   ]
  },
  {
   "cell_type": "code",
   "execution_count": null,
   "metadata": {},
   "outputs": [],
   "source": [
    "data = (1 - np.asarray(mean_errors)).reshape((len(qubits),len(depths)))\n",
    "\n",
    "plot_colormap(data, qubits, depths, zne_extrapolator, mem)"
   ]
  },
  {
   "cell_type": "markdown",
   "metadata": {},
   "source": [
    "### Quadratic ZNE"
   ]
  },
  {
   "cell_type": "code",
   "execution_count": null,
   "metadata": {},
   "outputs": [],
   "source": [
    "zne = True\n",
    "zne_extrapolator = \"polynomial_degree_2\"\n",
    "mem = False\n",
    "\n",
    "mean_errors = retrieve_results(qubits, depths, zne_extrapolator, mem, zne, service)"
   ]
  },
  {
   "cell_type": "code",
   "execution_count": null,
   "metadata": {},
   "outputs": [],
   "source": [
    "data = (1 - np.asarray(mean_errors)).reshape((len(qubits),len(depths)))\n",
    "\n",
    "plot_colormap(data, qubits, depths, zne_extrapolator, mem)"
   ]
  },
  {
   "cell_type": "markdown",
   "metadata": {},
   "source": [
    "### Exponential ZNE"
   ]
  },
  {
   "cell_type": "code",
   "execution_count": null,
   "metadata": {},
   "outputs": [],
   "source": [
    "zne = True\n",
    "zne_extrapolator = \"exponential\"\n",
    "mem = False\n",
    "\n",
    "mean_errors = retrieve_results(qubits, depths, zne_extrapolator, mem, zne, service)"
   ]
  },
  {
   "cell_type": "code",
   "execution_count": null,
   "metadata": {},
   "outputs": [],
   "source": [
    "data = (1 - np.asarray(mean_errors)).reshape((len(qubits),len(depths)))\n",
    "\n",
    "plot_colormap(data, qubits, depths, zne_extrapolator, mem)"
   ]
  },
  {
   "cell_type": "markdown",
   "metadata": {},
   "source": [
    "# Double Pauli Weight"
   ]
  },
  {
   "cell_type": "code",
   "execution_count": null,
   "metadata": {},
   "outputs": [],
   "source": [
    "service = QiskitRuntimeService(name=\"ibm-ikerbasque\")\n",
    "job_ids = retrieve_job_id(qubits[0], depths[0], \"no_zne\", False, \"logs/jobs_qubits_[4, 8, 16, 32, 64]_depths_[4, 8, 16, 32, 64]_pauli-Z_weight_1_stat_shots_3_zne_False_mem_False\")\n",
    "job = service.job(job_id=job_ids[0])\n",
    "backend = job.backend()\n",
    "qubits = [4,8,16,32,64]\n",
    "depths = [4,8,16,32,64]\n",
    "construct_batches_execution(LIST_QUBITS=qubits, LIST_DEPTHS=depths, stat_shots=3, zne=True, backend=backend, err_mitig=1, pauli_weight=2)"
   ]
  },
  {
   "cell_type": "markdown",
   "metadata": {},
   "source": [
    "### Linear ZNE"
   ]
  },
  {
   "cell_type": "code",
   "execution_count": null,
   "metadata": {},
   "outputs": [],
   "source": [
    "service = QiskitRuntimeService(name=\"ibm-ikerbasque\")\n",
    "qubits = [4,8,16,32,64]\n",
    "depths = [4,8,16,32,64]\n",
    "zne = True\n",
    "zne_extrapolator = \"linear\"\n",
    "mem = False\n",
    "\n",
    "mean_errors = retrieve_results(qubits, depths, zne_extrapolator, mem, zne, service)"
   ]
  },
  {
   "cell_type": "code",
   "execution_count": null,
   "metadata": {},
   "outputs": [],
   "source": [
    "data = (1 - np.asarray(mean_errors)).reshape((len(qubits),len(depths)))\n",
    "\n",
    "plot_colormap(data, qubits, depths, zne_extrapolator, mem)"
   ]
  },
  {
   "cell_type": "markdown",
   "metadata": {},
   "source": [
    "### Quadratic ZNE"
   ]
  },
  {
   "cell_type": "code",
   "execution_count": null,
   "metadata": {},
   "outputs": [],
   "source": [
    "service = QiskitRuntimeService(name=\"ibm-ikerbasque\")\n",
    "qubits = [4,8,16,32,64]\n",
    "depths = [4,8,16,32,64]\n",
    "zne = True\n",
    "zne_extrapolator = \"plynomial_degree_2\"\n",
    "mem = False\n",
    "\n",
    "mean_errors = retrieve_results(qubits, depths, zne_extrapolator, mem, zne, service)"
   ]
  },
  {
   "cell_type": "code",
   "execution_count": null,
   "metadata": {},
   "outputs": [],
   "source": [
    "data = (1 - np.asarray(mean_errors)).reshape((len(qubits),len(depths)))\n",
    "\n",
    "plot_colormap(data, qubits, depths, zne_extrapolator, mem)"
   ]
  },
  {
   "cell_type": "markdown",
   "metadata": {},
   "source": [
    "### Exponential ZNE"
   ]
  },
  {
   "cell_type": "code",
   "execution_count": null,
   "metadata": {},
   "outputs": [],
   "source": [
    "service = QiskitRuntimeService(name=\"ibm-ikerbasque\")\n",
    "qubits = [4,8,16,32,64]\n",
    "depths = [4,8,16,32,64]\n",
    "zne = True\n",
    "zne_extrapolator = \"exponential\"\n",
    "mem = False\n",
    "\n",
    "mean_errors = retrieve_results(qubits, depths, zne_extrapolator, mem, zne, service)"
   ]
  },
  {
   "cell_type": "code",
   "execution_count": null,
   "metadata": {},
   "outputs": [],
   "source": [
    "data = (1 - np.asarray(mean_errors)).reshape((len(qubits),len(depths)))\n",
    "\n",
    "plot_colormap(data, qubits, depths, zne_extrapolator, mem)"
   ]
  },
  {
   "cell_type": "markdown",
   "metadata": {},
   "source": [
    "# Retrieve trials"
   ]
  },
  {
   "cell_type": "code",
   "execution_count": null,
   "metadata": {},
   "outputs": [],
   "source": [
    "from qs_qh.utils import retrieve_job_id\n",
    "\n",
    "job_ids = retrieve_job_id(4, 4, \"no_zne\", False, \"logs/jobs_qubits_[4, 8]_depths_[4]_pauli-Z_weight_1_stat_shots_3\")\n",
    "\n",
    "print(len(job_ids))"
   ]
  },
  {
   "cell_type": "code",
   "execution_count": null,
   "metadata": {},
   "outputs": [],
   "source": [
    "service = QiskitRuntimeService(name=\"ibm-ikerbasque\")"
   ]
  },
  {
   "cell_type": "code",
   "execution_count": null,
   "metadata": {},
   "outputs": [],
   "source": [
    "res = []\n",
    "for job_id in job_ids:\n",
    "    job = service.job(job_id=job_id)\n",
    "    job.backend\n",
    "    result = job.result()[0]\n",
    "    ev = result.data.evs.tolist()\n",
    "    res.append(ev)\n",
    "    print(f\"- {ev} (linear)\")\n",
    "mean = np.mean(np.asarray(res))\n",
    "std = np.std(np.asarray(res))\n",
    "\n",
    "print(f\"mean: {mean}, std: {std}\")"
   ]
  },
  {
   "cell_type": "markdown",
   "metadata": {},
   "source": [
    "### Get results and Plot"
   ]
  },
  {
   "cell_type": "code",
   "execution_count": null,
   "metadata": {},
   "outputs": [],
   "source": [
    "service = QiskitRuntimeService(name=\"ibm-ikerbasque\")"
   ]
  },
  {
   "cell_type": "code",
   "execution_count": null,
   "metadata": {},
   "outputs": [],
   "source": [
    "zne = False\n",
    "zne_extrapolator = \"no_zne\"\n",
    "mem = False\n",
    "mean_errors = []\n",
    "for qubit in qubits:\n",
    "    for depth in depths:\n",
    "        job_ids = retrieve_job_id(qubit, depth, zne_extrapolator, mem, f\"logs/jobs_qubits_{qubits}_depths_{depths}_pauli-Z_weight_1_stat_shots_3_zne_{zne}_mem_{mem}\")\n",
    "        res = []\n",
    "        for job_id in job_ids:\n",
    "            job = service.job(job_id=job_id)\n",
    "            result = job.result()[0]\n",
    "            ev = result.data.evs.tolist()\n",
    "            res.append(ev)\n",
    "            print(f\"- {ev} (linear)\")\n",
    "        mean = np.mean(np.asarray(res))\n",
    "        std = np.std(np.asarray(res))\n",
    "        mean_errors.append(mean)"
   ]
  }
 ],
 "metadata": {
  "kernelspec": {
   "display_name": "qs_qh",
   "language": "python",
   "name": "python3"
  },
  "language_info": {
   "codemirror_mode": {
    "name": "ipython",
    "version": 3
   },
   "file_extension": ".py",
   "mimetype": "text/x-python",
   "name": "python",
   "nbconvert_exporter": "python",
   "pygments_lexer": "ipython3",
   "version": "3.12.3"
  }
 },
 "nbformat": 4,
 "nbformat_minor": 2
}
