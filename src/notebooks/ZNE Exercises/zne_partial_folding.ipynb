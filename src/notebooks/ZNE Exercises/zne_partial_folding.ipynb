{
 "cells": [
  {
   "cell_type": "markdown",
   "metadata": {},
   "source": [
    "# Learning Partial Folding for better ZNE"
   ]
  },
  {
   "cell_type": "markdown",
   "metadata": {},
   "source": [
    "L = 8\n",
    "J = 1\n",
    "h = 0.05\n",
    "lamb = 0.5\n",
    "\n",
    "particle_pair_left_position = 3\n",
    "particle_pair_length = 1\n",
    "\n",
    "final_time = 5\n",
    "layers = 50\n",
    "measure_every_layers = 1\n",
    "\n",
    "import z2chain.circs as circs\n",
    "\n",
    "logical_circs = circs.particle_pair_quench_simulation_circuits(L, J, h, lamb, particle_pair_left_position, particle_pair_length, final_time, layers, measure_every_layers)\n",
    "# logical_circs[1].draw(output=\"mpl\")"
   ]
  }
 ],
 "metadata": {
  "kernelspec": {
   "display_name": "qs_qh",
   "language": "python",
   "name": "python3"
  },
  "language_info": {
   "name": "python",
   "version": "3.12.3"
  }
 },
 "nbformat": 4,
 "nbformat_minor": 2
}
